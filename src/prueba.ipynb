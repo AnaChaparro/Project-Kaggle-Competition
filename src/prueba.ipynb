{
 "cells": [
  {
   "cell_type": "markdown",
   "id": "40de79b0",
   "metadata": {},
   "source": [
    "# Project Kaggle Competition"
   ]
  },
  {
   "cell_type": "markdown",
   "id": "3dc2b83a",
   "metadata": {},
   "source": [
    "### Importación de librerías:"
   ]
  },
  {
   "cell_type": "code",
   "execution_count": 1,
   "id": "9cf343db",
   "metadata": {},
   "outputs": [],
   "source": [
    "import pandas as pd\n",
    "import numpy as np\n",
    "pd.options.display.float_format = '{:.3f}'.format\n",
    "\n",
    "import warnings\n",
    "warnings.filterwarnings('ignore')\n",
    "\n",
    "\n",
    "import pylab as plt\n",
    "import seaborn as sns\n",
    "\n",
    "\n",
    "from sklearn.preprocessing import LabelEncoder\n",
    "from sklearn.model_selection import train_test_split as tts\n",
    "\n",
    "from sklearn.preprocessing import StandardScaler\n",
    "\n",
    "\n",
    "from sklearn.metrics import mean_squared_error as mse\n",
    "from sklearn.metrics import r2_score as r2\n",
    "\n",
    "\n",
    "from sklearn.linear_model import LinearRegression as LinReg\n",
    "from sklearn.linear_model import Lasso        \n",
    "from sklearn.linear_model import Ridge        \n",
    "from sklearn.linear_model import ElasticNet\n",
    "\n",
    "\n",
    "from sklearn.svm import SVR\n",
    "\n",
    "\n",
    "from sklearn.ensemble import RandomForestRegressor as RFR  \n",
    "from sklearn.tree import ExtraTreeRegressor as ETR\n",
    "from sklearn.ensemble import GradientBoostingRegressor as GBR\n",
    "from xgboost import XGBRegressor as XGBR\n",
    "from catboost import CatBoostRegressor as CTR\n",
    "from lightgbm import LGBMRegressor as LGBMR"
   ]
  },
  {
   "cell_type": "code",
   "execution_count": 2,
   "id": "67818170",
   "metadata": {},
   "outputs": [],
   "source": [
    "salaries=pd.read_csv('../data/salaries_data.csv')"
   ]
  },
  {
   "cell_type": "code",
   "execution_count": 3,
   "id": "9e2e868d",
   "metadata": {},
   "outputs": [
    {
     "data": {
      "text/html": [
       "<div>\n",
       "<style scoped>\n",
       "    .dataframe tbody tr th:only-of-type {\n",
       "        vertical-align: middle;\n",
       "    }\n",
       "\n",
       "    .dataframe tbody tr th {\n",
       "        vertical-align: top;\n",
       "    }\n",
       "\n",
       "    .dataframe thead th {\n",
       "        text-align: right;\n",
       "    }\n",
       "</style>\n",
       "<table border=\"1\" class=\"dataframe\">\n",
       "  <thead>\n",
       "    <tr style=\"text-align: right;\">\n",
       "      <th></th>\n",
       "      <th>work_year</th>\n",
       "      <th>experience_level</th>\n",
       "      <th>employment_type</th>\n",
       "      <th>job_title</th>\n",
       "      <th>salary</th>\n",
       "      <th>salary_currency</th>\n",
       "      <th>salary_in_usd</th>\n",
       "      <th>employee_residence</th>\n",
       "      <th>remote_ratio</th>\n",
       "      <th>company_location</th>\n",
       "      <th>company_size</th>\n",
       "    </tr>\n",
       "  </thead>\n",
       "  <tbody>\n",
       "    <tr>\n",
       "      <th>0</th>\n",
       "      <td>2022</td>\n",
       "      <td>SE</td>\n",
       "      <td>FT</td>\n",
       "      <td>Data Engineer</td>\n",
       "      <td>140250</td>\n",
       "      <td>USD</td>\n",
       "      <td>140250</td>\n",
       "      <td>US</td>\n",
       "      <td>100</td>\n",
       "      <td>US</td>\n",
       "      <td>M</td>\n",
       "    </tr>\n",
       "    <tr>\n",
       "      <th>1</th>\n",
       "      <td>2022</td>\n",
       "      <td>SE</td>\n",
       "      <td>FT</td>\n",
       "      <td>Data Engineer</td>\n",
       "      <td>135000</td>\n",
       "      <td>USD</td>\n",
       "      <td>135000</td>\n",
       "      <td>US</td>\n",
       "      <td>100</td>\n",
       "      <td>US</td>\n",
       "      <td>M</td>\n",
       "    </tr>\n",
       "    <tr>\n",
       "      <th>2</th>\n",
       "      <td>2021</td>\n",
       "      <td>MI</td>\n",
       "      <td>FT</td>\n",
       "      <td>BI Data Analyst</td>\n",
       "      <td>100000</td>\n",
       "      <td>USD</td>\n",
       "      <td>100000</td>\n",
       "      <td>US</td>\n",
       "      <td>100</td>\n",
       "      <td>US</td>\n",
       "      <td>M</td>\n",
       "    </tr>\n",
       "    <tr>\n",
       "      <th>3</th>\n",
       "      <td>2021</td>\n",
       "      <td>MI</td>\n",
       "      <td>CT</td>\n",
       "      <td>ML Engineer</td>\n",
       "      <td>270000</td>\n",
       "      <td>USD</td>\n",
       "      <td>270000</td>\n",
       "      <td>US</td>\n",
       "      <td>100</td>\n",
       "      <td>US</td>\n",
       "      <td>L</td>\n",
       "    </tr>\n",
       "    <tr>\n",
       "      <th>4</th>\n",
       "      <td>2021</td>\n",
       "      <td>MI</td>\n",
       "      <td>FT</td>\n",
       "      <td>Data Engineer</td>\n",
       "      <td>22000</td>\n",
       "      <td>EUR</td>\n",
       "      <td>26005</td>\n",
       "      <td>RO</td>\n",
       "      <td>0</td>\n",
       "      <td>US</td>\n",
       "      <td>L</td>\n",
       "    </tr>\n",
       "  </tbody>\n",
       "</table>\n",
       "</div>"
      ],
      "text/plain": [
       "   work_year experience_level employment_type        job_title  salary  \\\n",
       "0       2022               SE              FT    Data Engineer  140250   \n",
       "1       2022               SE              FT    Data Engineer  135000   \n",
       "2       2021               MI              FT  BI Data Analyst  100000   \n",
       "3       2021               MI              CT      ML Engineer  270000   \n",
       "4       2021               MI              FT    Data Engineer   22000   \n",
       "\n",
       "  salary_currency  salary_in_usd employee_residence  remote_ratio  \\\n",
       "0             USD         140250                 US           100   \n",
       "1             USD         135000                 US           100   \n",
       "2             USD         100000                 US           100   \n",
       "3             USD         270000                 US           100   \n",
       "4             EUR          26005                 RO             0   \n",
       "\n",
       "  company_location company_size  \n",
       "0               US            M  \n",
       "1               US            M  \n",
       "2               US            M  \n",
       "3               US            L  \n",
       "4               US            L  "
      ]
     },
     "execution_count": 3,
     "metadata": {},
     "output_type": "execute_result"
    },
    {
     "data": {
      "text/html": [
       "<div>\n",
       "<style scoped>\n",
       "    .dataframe tbody tr th:only-of-type {\n",
       "        vertical-align: middle;\n",
       "    }\n",
       "\n",
       "    .dataframe tbody tr th {\n",
       "        vertical-align: top;\n",
       "    }\n",
       "\n",
       "    .dataframe thead th {\n",
       "        text-align: right;\n",
       "    }\n",
       "</style>\n",
       "<table border=\"1\" class=\"dataframe\">\n",
       "  <thead>\n",
       "    <tr style=\"text-align: right;\">\n",
       "      <th></th>\n",
       "      <th>work_year</th>\n",
       "      <th>experience_level</th>\n",
       "      <th>employment_type</th>\n",
       "      <th>job_title</th>\n",
       "      <th>salary</th>\n",
       "      <th>salary_currency</th>\n",
       "      <th>salary_in_usd</th>\n",
       "      <th>employee_residence</th>\n",
       "      <th>remote_ratio</th>\n",
       "      <th>company_location</th>\n",
       "      <th>company_size</th>\n",
       "    </tr>\n",
       "  </thead>\n",
       "  <tbody>\n",
       "    <tr>\n",
       "      <th>0</th>\n",
       "      <td>2022</td>\n",
       "      <td>SE</td>\n",
       "      <td>FT</td>\n",
       "      <td>Data Engineer</td>\n",
       "      <td>140250</td>\n",
       "      <td>USD</td>\n",
       "      <td>140250</td>\n",
       "      <td>US</td>\n",
       "      <td>100</td>\n",
       "      <td>US</td>\n",
       "      <td>M</td>\n",
       "    </tr>\n",
       "    <tr>\n",
       "      <th>1</th>\n",
       "      <td>2022</td>\n",
       "      <td>SE</td>\n",
       "      <td>FT</td>\n",
       "      <td>Data Engineer</td>\n",
       "      <td>135000</td>\n",
       "      <td>USD</td>\n",
       "      <td>135000</td>\n",
       "      <td>US</td>\n",
       "      <td>100</td>\n",
       "      <td>US</td>\n",
       "      <td>M</td>\n",
       "    </tr>\n",
       "    <tr>\n",
       "      <th>2</th>\n",
       "      <td>2021</td>\n",
       "      <td>MI</td>\n",
       "      <td>FT</td>\n",
       "      <td>BI Data Analyst</td>\n",
       "      <td>100000</td>\n",
       "      <td>USD</td>\n",
       "      <td>100000</td>\n",
       "      <td>US</td>\n",
       "      <td>100</td>\n",
       "      <td>US</td>\n",
       "      <td>M</td>\n",
       "    </tr>\n",
       "    <tr>\n",
       "      <th>3</th>\n",
       "      <td>2021</td>\n",
       "      <td>MI</td>\n",
       "      <td>CT</td>\n",
       "      <td>ML Engineer</td>\n",
       "      <td>270000</td>\n",
       "      <td>USD</td>\n",
       "      <td>270000</td>\n",
       "      <td>US</td>\n",
       "      <td>100</td>\n",
       "      <td>US</td>\n",
       "      <td>L</td>\n",
       "    </tr>\n",
       "    <tr>\n",
       "      <th>4</th>\n",
       "      <td>2021</td>\n",
       "      <td>MI</td>\n",
       "      <td>FT</td>\n",
       "      <td>Data Engineer</td>\n",
       "      <td>22000</td>\n",
       "      <td>EUR</td>\n",
       "      <td>26005</td>\n",
       "      <td>RO</td>\n",
       "      <td>0</td>\n",
       "      <td>US</td>\n",
       "      <td>L</td>\n",
       "    </tr>\n",
       "  </tbody>\n",
       "</table>\n",
       "</div>"
      ],
      "text/plain": [
       "   work_year experience_level employment_type        job_title  salary  \\\n",
       "0       2022               SE              FT    Data Engineer  140250   \n",
       "1       2022               SE              FT    Data Engineer  135000   \n",
       "2       2021               MI              FT  BI Data Analyst  100000   \n",
       "3       2021               MI              CT      ML Engineer  270000   \n",
       "4       2021               MI              FT    Data Engineer   22000   \n",
       "\n",
       "  salary_currency  salary_in_usd employee_residence  remote_ratio  \\\n",
       "0             USD         140250                 US           100   \n",
       "1             USD         135000                 US           100   \n",
       "2             USD         100000                 US           100   \n",
       "3             USD         270000                 US           100   \n",
       "4             EUR          26005                 RO             0   \n",
       "\n",
       "  company_location company_size  \n",
       "0               US            M  \n",
       "1               US            M  \n",
       "2               US            M  \n",
       "3               US            L  \n",
       "4               US            L  "
      ]
     },
     "execution_count": 3,
     "metadata": {},
     "output_type": "execute_result"
    }
   ],
   "source": [
    "salaries.head()"
   ]
  },
  {
   "cell_type": "code",
   "execution_count": 4,
   "id": "07251c9a",
   "metadata": {},
   "outputs": [
    {
     "name": "stdout",
     "output_type": "stream",
     "text": [
      "<class 'pandas.core.frame.DataFrame'>\n",
      "RangeIndex: 500 entries, 0 to 499\n",
      "Data columns (total 11 columns):\n",
      " #   Column              Non-Null Count  Dtype \n",
      "---  ------              --------------  ----- \n",
      " 0   work_year           500 non-null    int64 \n",
      " 1   experience_level    500 non-null    object\n",
      " 2   employment_type     500 non-null    object\n",
      " 3   job_title           500 non-null    object\n",
      " 4   salary              500 non-null    int64 \n",
      " 5   salary_currency     500 non-null    object\n",
      " 6   salary_in_usd       500 non-null    int64 \n",
      " 7   employee_residence  500 non-null    object\n",
      " 8   remote_ratio        500 non-null    int64 \n",
      " 9   company_location    500 non-null    object\n",
      " 10  company_size        500 non-null    object\n",
      "dtypes: int64(4), object(7)\n",
      "memory usage: 224.3 KB\n",
      "<class 'pandas.core.frame.DataFrame'>\n",
      "RangeIndex: 500 entries, 0 to 499\n",
      "Data columns (total 11 columns):\n",
      " #   Column              Non-Null Count  Dtype \n",
      "---  ------              --------------  ----- \n",
      " 0   work_year           500 non-null    int64 \n",
      " 1   experience_level    500 non-null    object\n",
      " 2   employment_type     500 non-null    object\n",
      " 3   job_title           500 non-null    object\n",
      " 4   salary              500 non-null    int64 \n",
      " 5   salary_currency     500 non-null    object\n",
      " 6   salary_in_usd       500 non-null    int64 \n",
      " 7   employee_residence  500 non-null    object\n",
      " 8   remote_ratio        500 non-null    int64 \n",
      " 9   company_location    500 non-null    object\n",
      " 10  company_size        500 non-null    object\n",
      "dtypes: int64(4), object(7)\n",
      "memory usage: 224.3 KB\n"
     ]
    }
   ],
   "source": [
    "salaries.info(memory_usage='deep')"
   ]
  },
  {
   "cell_type": "code",
   "execution_count": 5,
   "id": "acda750d",
   "metadata": {},
   "outputs": [],
   "source": [
    "testeo=pd.read_csv('../data/testeo.csv')"
   ]
  },
  {
   "cell_type": "code",
   "execution_count": 6,
   "id": "c4b279b5",
   "metadata": {},
   "outputs": [
    {
     "data": {
      "text/html": [
       "<div>\n",
       "<style scoped>\n",
       "    .dataframe tbody tr th:only-of-type {\n",
       "        vertical-align: middle;\n",
       "    }\n",
       "\n",
       "    .dataframe tbody tr th {\n",
       "        vertical-align: top;\n",
       "    }\n",
       "\n",
       "    .dataframe thead th {\n",
       "        text-align: right;\n",
       "    }\n",
       "</style>\n",
       "<table border=\"1\" class=\"dataframe\">\n",
       "  <thead>\n",
       "    <tr style=\"text-align: right;\">\n",
       "      <th></th>\n",
       "      <th>work_year</th>\n",
       "      <th>experience_level</th>\n",
       "      <th>employment_type</th>\n",
       "      <th>job_title</th>\n",
       "      <th>salary</th>\n",
       "      <th>salary_currency</th>\n",
       "      <th>employee_residence</th>\n",
       "      <th>remote_ratio</th>\n",
       "      <th>company_location</th>\n",
       "      <th>company_size</th>\n",
       "    </tr>\n",
       "  </thead>\n",
       "  <tbody>\n",
       "    <tr>\n",
       "      <th>0</th>\n",
       "      <td>2020</td>\n",
       "      <td>SE</td>\n",
       "      <td>FT</td>\n",
       "      <td>Machine Learning Scientist</td>\n",
       "      <td>260000</td>\n",
       "      <td>USD</td>\n",
       "      <td>JP</td>\n",
       "      <td>0</td>\n",
       "      <td>JP</td>\n",
       "      <td>S</td>\n",
       "    </tr>\n",
       "    <tr>\n",
       "      <th>1</th>\n",
       "      <td>2020</td>\n",
       "      <td>MI</td>\n",
       "      <td>FT</td>\n",
       "      <td>Lead Data Analyst</td>\n",
       "      <td>87000</td>\n",
       "      <td>USD</td>\n",
       "      <td>US</td>\n",
       "      <td>100</td>\n",
       "      <td>US</td>\n",
       "      <td>L</td>\n",
       "    </tr>\n",
       "    <tr>\n",
       "      <th>2</th>\n",
       "      <td>2020</td>\n",
       "      <td>MI</td>\n",
       "      <td>FT</td>\n",
       "      <td>Data Analyst</td>\n",
       "      <td>85000</td>\n",
       "      <td>USD</td>\n",
       "      <td>US</td>\n",
       "      <td>100</td>\n",
       "      <td>US</td>\n",
       "      <td>L</td>\n",
       "    </tr>\n",
       "    <tr>\n",
       "      <th>3</th>\n",
       "      <td>2020</td>\n",
       "      <td>MI</td>\n",
       "      <td>FT</td>\n",
       "      <td>Machine Learning Engineer</td>\n",
       "      <td>299000</td>\n",
       "      <td>CNY</td>\n",
       "      <td>CN</td>\n",
       "      <td>0</td>\n",
       "      <td>CN</td>\n",
       "      <td>M</td>\n",
       "    </tr>\n",
       "    <tr>\n",
       "      <th>4</th>\n",
       "      <td>2020</td>\n",
       "      <td>MI</td>\n",
       "      <td>FT</td>\n",
       "      <td>Product Data Analyst</td>\n",
       "      <td>450000</td>\n",
       "      <td>INR</td>\n",
       "      <td>IN</td>\n",
       "      <td>100</td>\n",
       "      <td>IN</td>\n",
       "      <td>L</td>\n",
       "    </tr>\n",
       "  </tbody>\n",
       "</table>\n",
       "</div>"
      ],
      "text/plain": [
       "   work_year experience_level employment_type                   job_title  \\\n",
       "0       2020               SE              FT  Machine Learning Scientist   \n",
       "1       2020               MI              FT           Lead Data Analyst   \n",
       "2       2020               MI              FT                Data Analyst   \n",
       "3       2020               MI              FT   Machine Learning Engineer   \n",
       "4       2020               MI              FT        Product Data Analyst   \n",
       "\n",
       "   salary salary_currency employee_residence  remote_ratio company_location  \\\n",
       "0  260000             USD                 JP             0               JP   \n",
       "1   87000             USD                 US           100               US   \n",
       "2   85000             USD                 US           100               US   \n",
       "3  299000             CNY                 CN             0               CN   \n",
       "4  450000             INR                 IN           100               IN   \n",
       "\n",
       "  company_size  \n",
       "0            S  \n",
       "1            L  \n",
       "2            L  \n",
       "3            M  \n",
       "4            L  "
      ]
     },
     "execution_count": 6,
     "metadata": {},
     "output_type": "execute_result"
    },
    {
     "data": {
      "text/html": [
       "<div>\n",
       "<style scoped>\n",
       "    .dataframe tbody tr th:only-of-type {\n",
       "        vertical-align: middle;\n",
       "    }\n",
       "\n",
       "    .dataframe tbody tr th {\n",
       "        vertical-align: top;\n",
       "    }\n",
       "\n",
       "    .dataframe thead th {\n",
       "        text-align: right;\n",
       "    }\n",
       "</style>\n",
       "<table border=\"1\" class=\"dataframe\">\n",
       "  <thead>\n",
       "    <tr style=\"text-align: right;\">\n",
       "      <th></th>\n",
       "      <th>work_year</th>\n",
       "      <th>experience_level</th>\n",
       "      <th>employment_type</th>\n",
       "      <th>job_title</th>\n",
       "      <th>salary</th>\n",
       "      <th>salary_currency</th>\n",
       "      <th>employee_residence</th>\n",
       "      <th>remote_ratio</th>\n",
       "      <th>company_location</th>\n",
       "      <th>company_size</th>\n",
       "    </tr>\n",
       "  </thead>\n",
       "  <tbody>\n",
       "    <tr>\n",
       "      <th>0</th>\n",
       "      <td>2020</td>\n",
       "      <td>SE</td>\n",
       "      <td>FT</td>\n",
       "      <td>Machine Learning Scientist</td>\n",
       "      <td>260000</td>\n",
       "      <td>USD</td>\n",
       "      <td>JP</td>\n",
       "      <td>0</td>\n",
       "      <td>JP</td>\n",
       "      <td>S</td>\n",
       "    </tr>\n",
       "    <tr>\n",
       "      <th>1</th>\n",
       "      <td>2020</td>\n",
       "      <td>MI</td>\n",
       "      <td>FT</td>\n",
       "      <td>Lead Data Analyst</td>\n",
       "      <td>87000</td>\n",
       "      <td>USD</td>\n",
       "      <td>US</td>\n",
       "      <td>100</td>\n",
       "      <td>US</td>\n",
       "      <td>L</td>\n",
       "    </tr>\n",
       "    <tr>\n",
       "      <th>2</th>\n",
       "      <td>2020</td>\n",
       "      <td>MI</td>\n",
       "      <td>FT</td>\n",
       "      <td>Data Analyst</td>\n",
       "      <td>85000</td>\n",
       "      <td>USD</td>\n",
       "      <td>US</td>\n",
       "      <td>100</td>\n",
       "      <td>US</td>\n",
       "      <td>L</td>\n",
       "    </tr>\n",
       "    <tr>\n",
       "      <th>3</th>\n",
       "      <td>2020</td>\n",
       "      <td>MI</td>\n",
       "      <td>FT</td>\n",
       "      <td>Machine Learning Engineer</td>\n",
       "      <td>299000</td>\n",
       "      <td>CNY</td>\n",
       "      <td>CN</td>\n",
       "      <td>0</td>\n",
       "      <td>CN</td>\n",
       "      <td>M</td>\n",
       "    </tr>\n",
       "    <tr>\n",
       "      <th>4</th>\n",
       "      <td>2020</td>\n",
       "      <td>MI</td>\n",
       "      <td>FT</td>\n",
       "      <td>Product Data Analyst</td>\n",
       "      <td>450000</td>\n",
       "      <td>INR</td>\n",
       "      <td>IN</td>\n",
       "      <td>100</td>\n",
       "      <td>IN</td>\n",
       "      <td>L</td>\n",
       "    </tr>\n",
       "  </tbody>\n",
       "</table>\n",
       "</div>"
      ],
      "text/plain": [
       "   work_year experience_level employment_type                   job_title  \\\n",
       "0       2020               SE              FT  Machine Learning Scientist   \n",
       "1       2020               MI              FT           Lead Data Analyst   \n",
       "2       2020               MI              FT                Data Analyst   \n",
       "3       2020               MI              FT   Machine Learning Engineer   \n",
       "4       2020               MI              FT        Product Data Analyst   \n",
       "\n",
       "   salary salary_currency employee_residence  remote_ratio company_location  \\\n",
       "0  260000             USD                 JP             0               JP   \n",
       "1   87000             USD                 US           100               US   \n",
       "2   85000             USD                 US           100               US   \n",
       "3  299000             CNY                 CN             0               CN   \n",
       "4  450000             INR                 IN           100               IN   \n",
       "\n",
       "  company_size  \n",
       "0            S  \n",
       "1            L  \n",
       "2            L  \n",
       "3            M  \n",
       "4            L  "
      ]
     },
     "execution_count": 6,
     "metadata": {},
     "output_type": "execute_result"
    }
   ],
   "source": [
    "testeo.head()"
   ]
  },
  {
   "cell_type": "code",
   "execution_count": 7,
   "id": "8fe4473f",
   "metadata": {},
   "outputs": [
    {
     "name": "stdout",
     "output_type": "stream",
     "text": [
      "<class 'pandas.core.frame.DataFrame'>\n",
      "RangeIndex: 107 entries, 0 to 106\n",
      "Data columns (total 10 columns):\n",
      " #   Column              Non-Null Count  Dtype \n",
      "---  ------              --------------  ----- \n",
      " 0   work_year           107 non-null    int64 \n",
      " 1   experience_level    107 non-null    object\n",
      " 2   employment_type     107 non-null    object\n",
      " 3   job_title           107 non-null    object\n",
      " 4   salary              107 non-null    int64 \n",
      " 5   salary_currency     107 non-null    object\n",
      " 6   employee_residence  107 non-null    object\n",
      " 7   remote_ratio        107 non-null    int64 \n",
      " 8   company_location    107 non-null    object\n",
      " 9   company_size        107 non-null    object\n",
      "dtypes: int64(3), object(7)\n",
      "memory usage: 47.4 KB\n",
      "<class 'pandas.core.frame.DataFrame'>\n",
      "RangeIndex: 107 entries, 0 to 106\n",
      "Data columns (total 10 columns):\n",
      " #   Column              Non-Null Count  Dtype \n",
      "---  ------              --------------  ----- \n",
      " 0   work_year           107 non-null    int64 \n",
      " 1   experience_level    107 non-null    object\n",
      " 2   employment_type     107 non-null    object\n",
      " 3   job_title           107 non-null    object\n",
      " 4   salary              107 non-null    int64 \n",
      " 5   salary_currency     107 non-null    object\n",
      " 6   employee_residence  107 non-null    object\n",
      " 7   remote_ratio        107 non-null    int64 \n",
      " 8   company_location    107 non-null    object\n",
      " 9   company_size        107 non-null    object\n",
      "dtypes: int64(3), object(7)\n",
      "memory usage: 47.4 KB\n"
     ]
    }
   ],
   "source": [
    "testeo.info(memory_usage='deep')"
   ]
  },
  {
   "cell_type": "code",
   "execution_count": 8,
   "id": "36f49c0a",
   "metadata": {},
   "outputs": [],
   "source": [
    "y=salaries.salary_in_usd"
   ]
  },
  {
   "cell_type": "code",
   "execution_count": 9,
   "id": "07c9f505",
   "metadata": {},
   "outputs": [],
   "source": [
    "salaries=salaries.drop('salary_in_usd', axis = 1)"
   ]
  },
  {
   "cell_type": "markdown",
   "id": "fc47e978",
   "metadata": {},
   "source": [
    "Se eliminan las columnas de salary y salary_currency  de salaries y de testeo ya que carece de sentido tener ambas columnas cuando la y es la columna de salary_in_usd."
   ]
  },
  {
   "cell_type": "code",
   "execution_count": 10,
   "id": "f48094e4",
   "metadata": {},
   "outputs": [],
   "source": [
    "salaries=salaries.drop(['salary','salary_currency'], axis = 1)"
   ]
  },
  {
   "cell_type": "code",
   "execution_count": 11,
   "id": "40622fa0",
   "metadata": {},
   "outputs": [],
   "source": [
    "testeo=testeo.drop(['salary','salary_currency'], axis = 1)"
   ]
  },
  {
   "cell_type": "code",
   "execution_count": 12,
   "id": "dcad4350",
   "metadata": {},
   "outputs": [
    {
     "data": {
      "text/plain": [
       "array(['SE', 'MI', 'EN', 'EX'], dtype=object)"
      ]
     },
     "execution_count": 12,
     "metadata": {},
     "output_type": "execute_result"
    },
    {
     "data": {
      "text/plain": [
       "array(['SE', 'MI', 'EN', 'EX'], dtype=object)"
      ]
     },
     "execution_count": 12,
     "metadata": {},
     "output_type": "execute_result"
    }
   ],
   "source": [
    "#Verificamos los tipos de datos:\n",
    "\n",
    "salaries.experience_level.unique()"
   ]
  },
  {
   "cell_type": "code",
   "execution_count": 13,
   "id": "91d57e7d",
   "metadata": {},
   "outputs": [
    {
     "data": {
      "text/plain": [
       "array(['FT', 'CT', 'FL', 'PT'], dtype=object)"
      ]
     },
     "execution_count": 13,
     "metadata": {},
     "output_type": "execute_result"
    },
    {
     "data": {
      "text/plain": [
       "array(['FT', 'CT', 'FL', 'PT'], dtype=object)"
      ]
     },
     "execution_count": 13,
     "metadata": {},
     "output_type": "execute_result"
    }
   ],
   "source": [
    "salaries.employment_type.unique()"
   ]
  },
  {
   "cell_type": "code",
   "execution_count": 14,
   "id": "edab18c8",
   "metadata": {},
   "outputs": [
    {
     "data": {
      "text/plain": [
       "array(['Data Engineer', 'BI Data Analyst', 'ML Engineer',\n",
       "       'Machine Learning Scientist', 'Data Scientist', 'Data Analyst',\n",
       "       'Machine Learning Engineer', 'Principal Data Scientist',\n",
       "       'Data Engineering Manager', 'Data Analytics Manager',\n",
       "       'Big Data Engineer', 'Research Scientist',\n",
       "       'Machine Learning Developer', 'Computer Vision Engineer',\n",
       "       'AI Scientist', 'Machine Learning Manager', 'Lead Data Scientist',\n",
       "       'Director of Data Science', '3D Computer Vision Researcher',\n",
       "       'Data Specialist', 'Applied Data Scientist',\n",
       "       'Data Science Engineer', 'Head of Data', 'Analytics Engineer',\n",
       "       'ETL Developer', 'Marketing Data Analyst', 'Data Architect',\n",
       "       'Data Science Consultant', 'Principal Data Analyst',\n",
       "       'Head of Data Science', 'Lead Data Engineer',\n",
       "       'Data Science Manager', 'Applied Machine Learning Scientist',\n",
       "       'Lead Data Analyst', 'Cloud Data Engineer',\n",
       "       'Lead Machine Learning Engineer',\n",
       "       'Machine Learning Infrastructure Engineer', 'Big Data Architect',\n",
       "       'Product Data Analyst', 'Business Data Analyst',\n",
       "       'Director of Data Engineering', 'Data Analytics Lead',\n",
       "       'Financial Data Analyst', 'Finance Data Analyst',\n",
       "       'Head of Machine Learning', 'Staff Data Scientist',\n",
       "       'Data Analytics Engineer', 'Computer Vision Software Engineer'],\n",
       "      dtype=object)"
      ]
     },
     "execution_count": 14,
     "metadata": {},
     "output_type": "execute_result"
    },
    {
     "data": {
      "text/plain": [
       "array(['Data Engineer', 'BI Data Analyst', 'ML Engineer',\n",
       "       'Machine Learning Scientist', 'Data Scientist', 'Data Analyst',\n",
       "       'Machine Learning Engineer', 'Principal Data Scientist',\n",
       "       'Data Engineering Manager', 'Data Analytics Manager',\n",
       "       'Big Data Engineer', 'Research Scientist',\n",
       "       'Machine Learning Developer', 'Computer Vision Engineer',\n",
       "       'AI Scientist', 'Machine Learning Manager', 'Lead Data Scientist',\n",
       "       'Director of Data Science', '3D Computer Vision Researcher',\n",
       "       'Data Specialist', 'Applied Data Scientist',\n",
       "       'Data Science Engineer', 'Head of Data', 'Analytics Engineer',\n",
       "       'ETL Developer', 'Marketing Data Analyst', 'Data Architect',\n",
       "       'Data Science Consultant', 'Principal Data Analyst',\n",
       "       'Head of Data Science', 'Lead Data Engineer',\n",
       "       'Data Science Manager', 'Applied Machine Learning Scientist',\n",
       "       'Lead Data Analyst', 'Cloud Data Engineer',\n",
       "       'Lead Machine Learning Engineer',\n",
       "       'Machine Learning Infrastructure Engineer', 'Big Data Architect',\n",
       "       'Product Data Analyst', 'Business Data Analyst',\n",
       "       'Director of Data Engineering', 'Data Analytics Lead',\n",
       "       'Financial Data Analyst', 'Finance Data Analyst',\n",
       "       'Head of Machine Learning', 'Staff Data Scientist',\n",
       "       'Data Analytics Engineer', 'Computer Vision Software Engineer'],\n",
       "      dtype=object)"
      ]
     },
     "execution_count": 14,
     "metadata": {},
     "output_type": "execute_result"
    }
   ],
   "source": [
    "salaries.job_title.unique()"
   ]
  },
  {
   "cell_type": "code",
   "execution_count": 15,
   "id": "787edbb4",
   "metadata": {},
   "outputs": [
    {
     "data": {
      "text/plain": [
       "array(['US', 'RO', 'FR', 'GR', 'SI', 'DE', 'IN', 'GB', 'PK', 'MD', 'JP',\n",
       "       'CA', 'PT', 'IE', 'AE', 'IT', 'MX', 'VN', 'BE', 'KE', 'ES', 'CH',\n",
       "       'CL', 'JE', 'TR', 'NZ', 'UA', 'AU', 'NG', 'BG', 'HK', 'EE', 'CZ',\n",
       "       'RU', 'PR', 'AT', 'BR', 'DZ', 'IR', 'NL', 'RS', 'HU', 'PL', 'HN',\n",
       "       'MY', 'BO', 'MT', 'LU', 'SG'], dtype=object)"
      ]
     },
     "execution_count": 15,
     "metadata": {},
     "output_type": "execute_result"
    },
    {
     "data": {
      "text/plain": [
       "array(['US', 'RO', 'FR', 'GR', 'SI', 'DE', 'IN', 'GB', 'PK', 'MD', 'JP',\n",
       "       'CA', 'PT', 'IE', 'AE', 'IT', 'MX', 'VN', 'BE', 'KE', 'ES', 'CH',\n",
       "       'CL', 'JE', 'TR', 'NZ', 'UA', 'AU', 'NG', 'BG', 'HK', 'EE', 'CZ',\n",
       "       'RU', 'PR', 'AT', 'BR', 'DZ', 'IR', 'NL', 'RS', 'HU', 'PL', 'HN',\n",
       "       'MY', 'BO', 'MT', 'LU', 'SG'], dtype=object)"
      ]
     },
     "execution_count": 15,
     "metadata": {},
     "output_type": "execute_result"
    }
   ],
   "source": [
    "salaries.employee_residence.unique()"
   ]
  },
  {
   "cell_type": "code",
   "execution_count": 16,
   "id": "1dffc446",
   "metadata": {},
   "outputs": [
    {
     "data": {
      "text/plain": [
       "array([100,   0,  50])"
      ]
     },
     "execution_count": 16,
     "metadata": {},
     "output_type": "execute_result"
    },
    {
     "data": {
      "text/plain": [
       "array([100,   0,  50])"
      ]
     },
     "execution_count": 16,
     "metadata": {},
     "output_type": "execute_result"
    }
   ],
   "source": [
    "salaries.remote_ratio.unique()"
   ]
  },
  {
   "cell_type": "code",
   "execution_count": 17,
   "id": "51a94a62",
   "metadata": {},
   "outputs": [
    {
     "data": {
      "text/plain": [
       "array(['US', 'FR', 'GR', 'LU', 'SI', 'DE', 'IN', 'GB', 'PK', 'MD', 'JP',\n",
       "       'CA', 'AS', 'IE', 'AE', 'MX', 'VN', 'BE', 'KE', 'ES', 'CH', 'CL',\n",
       "       'CN', 'DK', 'TR', 'NZ', 'PL', 'UA', 'AU', 'NG', 'EE', 'CZ', 'AT',\n",
       "       'BR', 'DZ', 'IR', 'NL', 'HU', 'PT', 'HN', 'MT', 'RO', 'SG'],\n",
       "      dtype=object)"
      ]
     },
     "execution_count": 17,
     "metadata": {},
     "output_type": "execute_result"
    },
    {
     "data": {
      "text/plain": [
       "array(['US', 'FR', 'GR', 'LU', 'SI', 'DE', 'IN', 'GB', 'PK', 'MD', 'JP',\n",
       "       'CA', 'AS', 'IE', 'AE', 'MX', 'VN', 'BE', 'KE', 'ES', 'CH', 'CL',\n",
       "       'CN', 'DK', 'TR', 'NZ', 'PL', 'UA', 'AU', 'NG', 'EE', 'CZ', 'AT',\n",
       "       'BR', 'DZ', 'IR', 'NL', 'HU', 'PT', 'HN', 'MT', 'RO', 'SG'],\n",
       "      dtype=object)"
      ]
     },
     "execution_count": 17,
     "metadata": {},
     "output_type": "execute_result"
    }
   ],
   "source": [
    "salaries.company_location.unique()"
   ]
  },
  {
   "cell_type": "code",
   "execution_count": 18,
   "id": "6bad0c50",
   "metadata": {},
   "outputs": [
    {
     "data": {
      "text/plain": [
       "array(['M', 'L', 'S'], dtype=object)"
      ]
     },
     "execution_count": 18,
     "metadata": {},
     "output_type": "execute_result"
    },
    {
     "data": {
      "text/plain": [
       "array(['M', 'L', 'S'], dtype=object)"
      ]
     },
     "execution_count": 18,
     "metadata": {},
     "output_type": "execute_result"
    }
   ],
   "source": [
    "salaries.company_size.unique()"
   ]
  },
  {
   "cell_type": "code",
   "execution_count": 19,
   "id": "4546cbdd",
   "metadata": {},
   "outputs": [],
   "source": [
    "experience_level={'EN':0, 'MI':1, 'SE':2, 'EX':3}\n",
    "\n",
    "\n",
    "employment_type={'FT':3, 'CT':1, 'FL':2, 'PT':0}\n",
    "\n",
    "\n",
    "company_size={'M':1, 'L':2, 'S':0}"
   ]
  },
  {
   "cell_type": "code",
   "execution_count": 20,
   "id": "0c0ca1e4",
   "metadata": {},
   "outputs": [],
   "source": [
    "def label(s, dic):\n",
    "    return dic[s]"
   ]
  },
  {
   "cell_type": "code",
   "execution_count": 21,
   "id": "f9da9451",
   "metadata": {},
   "outputs": [],
   "source": [
    "salaries.experience_level=salaries.experience_level.apply(lambda x: label(x, experience_level))\n",
    "testeo.experience_level=testeo.experience_level.apply(lambda x: label(x, experience_level))\n",
    "\n",
    "salaries.employment_type=salaries.employment_type.apply(lambda x: label(x, employment_type))\n",
    "testeo.employment_type=testeo.employment_type.apply(lambda x: label(x, employment_type))\n",
    "\n",
    "salaries.company_size=salaries.company_size.apply(lambda x: label(x, company_size))\n",
    "testeo.company_size=testeo.company_size.apply(lambda x: label(x, company_size))"
   ]
  },
  {
   "cell_type": "code",
   "execution_count": 22,
   "id": "92b1e060",
   "metadata": {},
   "outputs": [],
   "source": [
    "def title(x):\n",
    "    \n",
    "        \n",
    "    if 'Machine' in x or 'ML' in x or 'Computer' in x:\n",
    "        \n",
    "        return 'Machine Learning'\n",
    "    \n",
    "    if 'Engineer' in x or 'Engineering' in x:\n",
    "        \n",
    "        return 'Data Engineer'\n",
    "    \n",
    "    if 'Analyst' in x or 'Analytics' in x:\n",
    "        \n",
    "        return 'Data Analyst'\n",
    "    \n",
    "    else:\n",
    "        \n",
    "        return 'Data Scientist'\n",
    "    \n",
    "        "
   ]
  },
  {
   "cell_type": "code",
   "execution_count": 23,
   "id": "c22b5961",
   "metadata": {},
   "outputs": [],
   "source": [
    "salaries.job_title=salaries.job_title.apply(title)"
   ]
  },
  {
   "cell_type": "code",
   "execution_count": 24,
   "id": "e8c9922a",
   "metadata": {},
   "outputs": [
    {
     "data": {
      "text/plain": [
       "array(['Data Engineer', 'Data Analyst', 'Machine Learning',\n",
       "       'Data Scientist'], dtype=object)"
      ]
     },
     "execution_count": 24,
     "metadata": {},
     "output_type": "execute_result"
    },
    {
     "data": {
      "text/plain": [
       "array(['Data Engineer', 'Data Analyst', 'Machine Learning',\n",
       "       'Data Scientist'], dtype=object)"
      ]
     },
     "execution_count": 24,
     "metadata": {},
     "output_type": "execute_result"
    }
   ],
   "source": [
    "salaries.job_title.unique()"
   ]
  },
  {
   "cell_type": "code",
   "execution_count": 25,
   "id": "ca610ab8",
   "metadata": {},
   "outputs": [],
   "source": [
    "salaries=salaries.drop(['employee_residence'], axis = 1)"
   ]
  },
  {
   "cell_type": "code",
   "execution_count": 26,
   "id": "1924cc7a",
   "metadata": {},
   "outputs": [],
   "source": [
    "testeo=testeo.drop(['employee_residence'], axis = 1)"
   ]
  },
  {
   "cell_type": "code",
   "execution_count": 27,
   "id": "97a33fa7",
   "metadata": {},
   "outputs": [
    {
     "data": {
      "text/plain": [
       "Data Scientist      195\n",
       "Data Engineer       140\n",
       "Data Analyst        105\n",
       "Machine Learning     60\n",
       "Name: job_title, dtype: int64"
      ]
     },
     "execution_count": 27,
     "metadata": {},
     "output_type": "execute_result"
    },
    {
     "data": {
      "text/plain": [
       "Data Scientist      195\n",
       "Data Engineer       140\n",
       "Data Analyst        105\n",
       "Machine Learning     60\n",
       "Name: job_title, dtype: int64"
      ]
     },
     "execution_count": 27,
     "metadata": {},
     "output_type": "execute_result"
    }
   ],
   "source": [
    "salaries.job_title.value_counts()"
   ]
  },
  {
   "cell_type": "code",
   "execution_count": 28,
   "id": "31a516c3",
   "metadata": {},
   "outputs": [],
   "source": [
    "testeo.job_title=testeo.job_title.apply(title)"
   ]
  },
  {
   "cell_type": "code",
   "execution_count": 29,
   "id": "255a543d",
   "metadata": {},
   "outputs": [
    {
     "data": {
      "text/plain": [
       "Data Scientist      37\n",
       "Data Engineer       30\n",
       "Data Analyst        22\n",
       "Machine Learning    18\n",
       "Name: job_title, dtype: int64"
      ]
     },
     "execution_count": 29,
     "metadata": {},
     "output_type": "execute_result"
    },
    {
     "data": {
      "text/plain": [
       "Data Scientist      37\n",
       "Data Engineer       30\n",
       "Data Analyst        22\n",
       "Machine Learning    18\n",
       "Name: job_title, dtype: int64"
      ]
     },
     "execution_count": 29,
     "metadata": {},
     "output_type": "execute_result"
    }
   ],
   "source": [
    "testeo.job_title.value_counts()"
   ]
  },
  {
   "cell_type": "code",
   "execution_count": 30,
   "id": "25559cd4",
   "metadata": {},
   "outputs": [],
   "source": [
    "def paises(x):\n",
    "    \n",
    "    if 'US'==x:\n",
    "        return x\n",
    "    if 'GB'==x:\n",
    "        return x\n",
    "    if 'CA'==x:\n",
    "        return x\n",
    "    if 'DE'==x:\n",
    "        return x\n",
    "    if 'IN'==x:\n",
    "        return x\n",
    "    if 'FR'==x:\n",
    "        return x\n",
    "    if 'ES'==x:\n",
    "        return x\n",
    "    if 'GR'==x:\n",
    "        return x\n",
    "    else:\n",
    "        return 'Other'\n"
   ]
  },
  {
   "cell_type": "code",
   "execution_count": 31,
   "id": "238a45fb",
   "metadata": {},
   "outputs": [],
   "source": [
    "salaries.company_location=salaries.company_location.apply(paises)"
   ]
  },
  {
   "cell_type": "code",
   "execution_count": 32,
   "id": "284175be",
   "metadata": {},
   "outputs": [],
   "source": [
    "testeo.company_location=testeo.company_location.apply(paises)"
   ]
  },
  {
   "cell_type": "code",
   "execution_count": 33,
   "id": "7c09c5e9",
   "metadata": {},
   "outputs": [],
   "source": [
    "salaries=pd.get_dummies(salaries, columns=['job_title'], drop_first=True)\n",
    "testeo=pd.get_dummies(testeo, columns=['job_title'], drop_first=True)"
   ]
  },
  {
   "cell_type": "code",
   "execution_count": 34,
   "id": "35e20646",
   "metadata": {},
   "outputs": [],
   "source": [
    "from sklearn.preprocessing import LabelEncoder, OrdinalEncoder\n",
    "\n",
    "salaries.company_location=LabelEncoder().fit_transform(salaries.company_location)\n",
    "testeo.company_location=LabelEncoder().fit_transform(testeo.company_location)"
   ]
  },
  {
   "cell_type": "code",
   "execution_count": 35,
   "id": "d7187ac9",
   "metadata": {},
   "outputs": [
    {
     "data": {
      "text/plain": [
       "(107, 9)"
      ]
     },
     "execution_count": 35,
     "metadata": {},
     "output_type": "execute_result"
    },
    {
     "data": {
      "text/plain": [
       "(107, 9)"
      ]
     },
     "execution_count": 35,
     "metadata": {},
     "output_type": "execute_result"
    }
   ],
   "source": [
    "testeo.shape"
   ]
  },
  {
   "cell_type": "code",
   "execution_count": 36,
   "id": "05a0a872",
   "metadata": {},
   "outputs": [],
   "source": [
    "X=salaries"
   ]
  },
  {
   "cell_type": "code",
   "execution_count": 37,
   "id": "fb635bc3",
   "metadata": {},
   "outputs": [
    {
     "data": {
      "text/plain": [
       "((400, 9), (100, 9), (400,), (100,))"
      ]
     },
     "execution_count": 37,
     "metadata": {},
     "output_type": "execute_result"
    },
    {
     "data": {
      "text/plain": [
       "((400, 9), (100, 9), (400,), (100,))"
      ]
     },
     "execution_count": 37,
     "metadata": {},
     "output_type": "execute_result"
    }
   ],
   "source": [
    "from sklearn.model_selection import train_test_split as tts\n",
    "\n",
    "\n",
    "X_train, X_test, y_train, y_test = tts(X, y, train_size=0.8, test_size=0.2, random_state=22)\n",
    "\n",
    "X_train.shape, X_test.shape, y_train.shape, y_test.shape"
   ]
  },
  {
   "cell_type": "markdown",
   "id": "525c3751",
   "metadata": {},
   "source": [
    "## Modelos lineales:"
   ]
  },
  {
   "cell_type": "code",
   "execution_count": 38,
   "id": "473346ba",
   "metadata": {},
   "outputs": [],
   "source": [
    "from sklearn.linear_model import LinearRegression as LinReg\n",
    "from sklearn.linear_model import Lasso       \n",
    "from sklearn.linear_model import Ridge        \n",
    "from sklearn.linear_model import ElasticNet"
   ]
  },
  {
   "cell_type": "code",
   "execution_count": 39,
   "id": "2f726c9d",
   "metadata": {},
   "outputs": [],
   "source": [
    "linreg=LinReg()\n",
    "lasso=Lasso()\n",
    "ridge=Ridge()\n",
    "elastic=ElasticNet()"
   ]
  },
  {
   "cell_type": "code",
   "execution_count": 40,
   "id": "686f0f7f",
   "metadata": {},
   "outputs": [
    {
     "data": {
      "text/plain": [
       "ElasticNet()"
      ]
     },
     "execution_count": 40,
     "metadata": {},
     "output_type": "execute_result"
    },
    {
     "data": {
      "text/plain": [
       "ElasticNet()"
      ]
     },
     "execution_count": 40,
     "metadata": {},
     "output_type": "execute_result"
    }
   ],
   "source": [
    "linreg.fit(X_train, y_train)\n",
    "\n",
    "lasso.fit(X_train, y_train)\n",
    "\n",
    "ridge.fit(X_train, y_train)\n",
    "\n",
    "elastic.fit(X_train, y_train)"
   ]
  },
  {
   "cell_type": "code",
   "execution_count": 41,
   "id": "5686fcc7",
   "metadata": {},
   "outputs": [],
   "source": [
    "y_pred_linear=linreg.predict(testeo)\n",
    "y_pred_lasso=lasso.predict(testeo)\n",
    "y_pred_ridge=ridge.predict(testeo)\n",
    "y_pred_elastic=elastic.predict(testeo)"
   ]
  },
  {
   "cell_type": "code",
   "execution_count": 42,
   "id": "68548b46",
   "metadata": {},
   "outputs": [],
   "source": [
    "y_pred_linear1=linreg.predict(X_test)\n",
    "y_pred_lasso1=lasso.predict(X_test)\n",
    "y_pred_ridge1=ridge.predict(X_test)\n",
    "y_pred_elastic1=elastic.predict(X_test)"
   ]
  },
  {
   "cell_type": "code",
   "execution_count": 43,
   "id": "add67ef1",
   "metadata": {},
   "outputs": [
    {
     "data": {
      "text/plain": [
       "(44215.78463358013, 0.3859169255259851)"
      ]
     },
     "execution_count": 43,
     "metadata": {},
     "output_type": "execute_result"
    },
    {
     "data": {
      "text/plain": [
       "(44215.78463358013, 0.3859169255259851)"
      ]
     },
     "execution_count": 43,
     "metadata": {},
     "output_type": "execute_result"
    }
   ],
   "source": [
    "mse(y_test, y_pred_linear1,squared=False), r2(y_test, y_pred_linear1)"
   ]
  },
  {
   "cell_type": "code",
   "execution_count": 44,
   "id": "f4b952ee",
   "metadata": {},
   "outputs": [
    {
     "data": {
      "text/plain": [
       "(44215.83058890819, 0.3859156490404928)"
      ]
     },
     "execution_count": 44,
     "metadata": {},
     "output_type": "execute_result"
    },
    {
     "data": {
      "text/plain": [
       "(44215.83058890819, 0.3859156490404928)"
      ]
     },
     "execution_count": 44,
     "metadata": {},
     "output_type": "execute_result"
    }
   ],
   "source": [
    "mse(y_test, y_pred_lasso1,squared=False), r2(y_test, y_pred_lasso1)"
   ]
  },
  {
   "cell_type": "code",
   "execution_count": 45,
   "id": "6e4e073b",
   "metadata": {},
   "outputs": [
    {
     "data": {
      "text/plain": [
       "(44241.00985605787, 0.38521605361094846)"
      ]
     },
     "execution_count": 45,
     "metadata": {},
     "output_type": "execute_result"
    },
    {
     "data": {
      "text/plain": [
       "(44241.00985605787, 0.38521605361094846)"
      ]
     },
     "execution_count": 45,
     "metadata": {},
     "output_type": "execute_result"
    }
   ],
   "source": [
    "mse(y_test, y_pred_ridge1,squared=False), r2(y_test, y_pred_ridge1)"
   ]
  },
  {
   "cell_type": "code",
   "execution_count": 46,
   "id": "40c38cef",
   "metadata": {},
   "outputs": [
    {
     "data": {
      "text/plain": [
       "(46773.88071711613, 0.31280615256066335)"
      ]
     },
     "execution_count": 46,
     "metadata": {},
     "output_type": "execute_result"
    },
    {
     "data": {
      "text/plain": [
       "(46773.88071711613, 0.31280615256066335)"
      ]
     },
     "execution_count": 46,
     "metadata": {},
     "output_type": "execute_result"
    }
   ],
   "source": [
    "mse(y_test, y_pred_elastic1,squared=False), r2(y_test, y_pred_elastic1)"
   ]
  },
  {
   "cell_type": "code",
   "execution_count": 47,
   "id": "fcb0bd83",
   "metadata": {},
   "outputs": [
    {
     "data": {
      "text/plain": [
       "ElasticNet()"
      ]
     },
     "execution_count": 47,
     "metadata": {},
     "output_type": "execute_result"
    },
    {
     "data": {
      "text/plain": [
       "ElasticNet()"
      ]
     },
     "execution_count": 47,
     "metadata": {},
     "output_type": "execute_result"
    }
   ],
   "source": [
    "linreg.fit(X, y)\n",
    "\n",
    "lasso.fit(X, y)\n",
    "\n",
    "ridge.fit(X, y)\n",
    "\n",
    "elastic.fit(X, y)"
   ]
  },
  {
   "cell_type": "code",
   "execution_count": 48,
   "id": "905940f2",
   "metadata": {},
   "outputs": [],
   "source": [
    "y_pred_linear2=linreg.predict(X)\n",
    "y_pred_lasso2=lasso.predict(X)\n",
    "y_pred_ridge2=ridge.predict(X)\n",
    "y_pred_elastic2=elastic.predict(X)"
   ]
  },
  {
   "cell_type": "code",
   "execution_count": 49,
   "id": "99a31979",
   "metadata": {},
   "outputs": [
    {
     "data": {
      "text/plain": [
       "(56589.86474741427, 0.33784951024636056)"
      ]
     },
     "execution_count": 49,
     "metadata": {},
     "output_type": "execute_result"
    },
    {
     "data": {
      "text/plain": [
       "(56589.86474741427, 0.33784951024636056)"
      ]
     },
     "execution_count": 49,
     "metadata": {},
     "output_type": "execute_result"
    }
   ],
   "source": [
    "mse(y, y_pred_linear2,squared=False), r2(y, y_pred_linear2)"
   ]
  },
  {
   "cell_type": "code",
   "execution_count": 50,
   "id": "d536e871",
   "metadata": {},
   "outputs": [
    {
     "data": {
      "text/plain": [
       "(56589.86474741427, 0.33784951024636056)"
      ]
     },
     "execution_count": 50,
     "metadata": {},
     "output_type": "execute_result"
    },
    {
     "data": {
      "text/plain": [
       "(56589.86474741427, 0.33784951024636056)"
      ]
     },
     "execution_count": 50,
     "metadata": {},
     "output_type": "execute_result"
    }
   ],
   "source": [
    "mse(y, y_pred_linear2,squared=False), r2(y, y_pred_linear2)"
   ]
  },
  {
   "cell_type": "code",
   "execution_count": 51,
   "id": "e7839f6f",
   "metadata": {},
   "outputs": [
    {
     "data": {
      "text/plain": [
       "(56589.86474741427, 0.33784951024636056)"
      ]
     },
     "execution_count": 51,
     "metadata": {},
     "output_type": "execute_result"
    },
    {
     "data": {
      "text/plain": [
       "(56589.86474741427, 0.33784951024636056)"
      ]
     },
     "execution_count": 51,
     "metadata": {},
     "output_type": "execute_result"
    }
   ],
   "source": [
    "mse(y, y_pred_linear2,squared=False), r2(y, y_pred_linear2)"
   ]
  },
  {
   "cell_type": "code",
   "execution_count": 52,
   "id": "8d119194",
   "metadata": {},
   "outputs": [
    {
     "data": {
      "text/plain": [
       "(56589.86474741427, 0.33784951024636056)"
      ]
     },
     "execution_count": 52,
     "metadata": {},
     "output_type": "execute_result"
    },
    {
     "data": {
      "text/plain": [
       "(56589.86474741427, 0.33784951024636056)"
      ]
     },
     "execution_count": 52,
     "metadata": {},
     "output_type": "execute_result"
    }
   ],
   "source": [
    "mse(y, y_pred_linear2,squared=False), r2(y, y_pred_linear2)"
   ]
  },
  {
   "cell_type": "markdown",
   "id": "79c880be",
   "metadata": {},
   "source": [
    "## Modelos no lineales:"
   ]
  },
  {
   "cell_type": "code",
   "execution_count": 53,
   "id": "99e6aa3b",
   "metadata": {},
   "outputs": [],
   "source": [
    "svr=SVR()\n",
    "rfr=RFR()\n",
    "etr=ETR()\n",
    "gbr=GBR()\n",
    "xgbr=XGBR()\n",
    "ctr=CTR()\n",
    "lgbmr=LGBMR()"
   ]
  },
  {
   "cell_type": "code",
   "execution_count": 54,
   "id": "f5d2c16f",
   "metadata": {},
   "outputs": [
    {
     "data": {
      "text/plain": [
       "LGBMRegressor()"
      ]
     },
     "execution_count": 54,
     "metadata": {},
     "output_type": "execute_result"
    },
    {
     "data": {
      "text/plain": [
       "LGBMRegressor()"
      ]
     },
     "execution_count": 54,
     "metadata": {},
     "output_type": "execute_result"
    }
   ],
   "source": [
    "svr.fit(X_train, y_train)\n",
    "rfr.fit(X_train, y_train)\n",
    "etr.fit(X_train, y_train)\n",
    "gbr.fit(X_train, y_train)\n",
    "xgbr.fit(X_train, y_train)\n",
    "ctr.fit(X_train, y_train, verbose=0)\n",
    "lgbmr.fit(X_train, y_train)"
   ]
  },
  {
   "cell_type": "code",
   "execution_count": 55,
   "id": "738352eb",
   "metadata": {},
   "outputs": [],
   "source": [
    "y_pred_svr=svr.predict(testeo)\n",
    "y_pred_rfr=rfr.predict(testeo)\n",
    "y_pred_etr=etr.predict(testeo)\n",
    "y_pred_gbr=gbr.predict(testeo)\n",
    "y_pred_xgbr=xgbr.predict(testeo)\n",
    "y_pred_ctr=ctr.predict(testeo)\n",
    "y_pred_lgbmr=lgbmr.predict(testeo)"
   ]
  },
  {
   "cell_type": "code",
   "execution_count": 56,
   "id": "8fa28def",
   "metadata": {},
   "outputs": [],
   "source": [
    "y_pred_svr1=svr.predict(X_test)\n",
    "y_pred_rfr1=rfr.predict(X_test)\n",
    "y_pred_etr1=etr.predict(X_test)\n",
    "y_pred_gbr1=gbr.predict(X_test)\n",
    "y_pred_xgbr1=xgbr.predict(X_test)\n",
    "y_pred_ctr1=ctr.predict(X_test)\n",
    "y_pred_lgbmr1=lgbmr.predict(X_test)"
   ]
  },
  {
   "cell_type": "code",
   "execution_count": 57,
   "id": "42aee35a",
   "metadata": {},
   "outputs": [
    {
     "data": {
      "text/plain": [
       "(56432.65399505574, -0.0003072251817013427)"
      ]
     },
     "execution_count": 57,
     "metadata": {},
     "output_type": "execute_result"
    },
    {
     "data": {
      "text/plain": [
       "(56432.65399505574, -0.0003072251817013427)"
      ]
     },
     "execution_count": 57,
     "metadata": {},
     "output_type": "execute_result"
    }
   ],
   "source": [
    "mse(y_test, y_pred_svr1,squared=False), r2(y_test, y_pred_svr1)"
   ]
  },
  {
   "cell_type": "code",
   "execution_count": 58,
   "id": "9a217ec3",
   "metadata": {},
   "outputs": [
    {
     "data": {
      "text/plain": [
       "(41617.85160277124, 0.4559588254321958)"
      ]
     },
     "execution_count": 58,
     "metadata": {},
     "output_type": "execute_result"
    },
    {
     "data": {
      "text/plain": [
       "(41617.85160277124, 0.4559588254321958)"
      ]
     },
     "execution_count": 58,
     "metadata": {},
     "output_type": "execute_result"
    }
   ],
   "source": [
    "mse(y_test, y_pred_rfr1,squared=False), r2(y_test, y_pred_rfr1)"
   ]
  },
  {
   "cell_type": "code",
   "execution_count": 59,
   "id": "e3ee9216",
   "metadata": {},
   "outputs": [
    {
     "data": {
      "text/plain": [
       "(48489.628622750315, 0.26146654926612245)"
      ]
     },
     "execution_count": 59,
     "metadata": {},
     "output_type": "execute_result"
    },
    {
     "data": {
      "text/plain": [
       "(48489.628622750315, 0.26146654926612245)"
      ]
     },
     "execution_count": 59,
     "metadata": {},
     "output_type": "execute_result"
    }
   ],
   "source": [
    "mse(y_test, y_pred_etr1,squared=False), r2(y_test, y_pred_etr1)"
   ]
  },
  {
   "cell_type": "code",
   "execution_count": 60,
   "id": "2e3fe472",
   "metadata": {},
   "outputs": [
    {
     "data": {
      "text/plain": [
       "(41023.28098132716, 0.4713926003305132)"
      ]
     },
     "execution_count": 60,
     "metadata": {},
     "output_type": "execute_result"
    },
    {
     "data": {
      "text/plain": [
       "(41023.28098132716, 0.4713926003305132)"
      ]
     },
     "execution_count": 60,
     "metadata": {},
     "output_type": "execute_result"
    }
   ],
   "source": [
    "mse(y_test, y_pred_gbr1,squared=False), r2(y_test, y_pred_gbr1)"
   ]
  },
  {
   "cell_type": "code",
   "execution_count": 61,
   "id": "4087b3d4",
   "metadata": {},
   "outputs": [
    {
     "data": {
      "text/plain": [
       "(52071.81661881476, 0.14831712838857358)"
      ]
     },
     "execution_count": 61,
     "metadata": {},
     "output_type": "execute_result"
    },
    {
     "data": {
      "text/plain": [
       "(52071.81661881476, 0.14831712838857358)"
      ]
     },
     "execution_count": 61,
     "metadata": {},
     "output_type": "execute_result"
    }
   ],
   "source": [
    "mse(y_test, y_pred_xgbr1,squared=False), r2(y_test, y_pred_xgbr1)"
   ]
  },
  {
   "cell_type": "code",
   "execution_count": 62,
   "id": "711db346",
   "metadata": {},
   "outputs": [
    {
     "data": {
      "text/plain": [
       "(43905.45819727793, 0.3945065038226315)"
      ]
     },
     "execution_count": 62,
     "metadata": {},
     "output_type": "execute_result"
    },
    {
     "data": {
      "text/plain": [
       "(43905.45819727793, 0.3945065038226315)"
      ]
     },
     "execution_count": 62,
     "metadata": {},
     "output_type": "execute_result"
    }
   ],
   "source": [
    "mse(y_test, y_pred_ctr1,squared=False), r2(y_test, y_pred_ctr1)"
   ]
  },
  {
   "cell_type": "code",
   "execution_count": 64,
   "id": "6ef57013",
   "metadata": {},
   "outputs": [
    {
     "data": {
      "text/plain": [
       "(39934.69242287572, 0.4990744973337826)"
      ]
     },
     "execution_count": 64,
     "metadata": {},
     "output_type": "execute_result"
    },
    {
     "data": {
      "text/plain": [
       "(39934.69242287572, 0.4990744973337826)"
      ]
     },
     "execution_count": 64,
     "metadata": {},
     "output_type": "execute_result"
    }
   ],
   "source": [
    "mse(y_test, y_pred_lgbmr1,squared=False), r2(y_test, y_pred_lgbmr1)"
   ]
  },
  {
   "cell_type": "code",
   "execution_count": 65,
   "id": "770255d6",
   "metadata": {},
   "outputs": [
    {
     "data": {
      "text/plain": [
       "LGBMRegressor()"
      ]
     },
     "execution_count": 65,
     "metadata": {},
     "output_type": "execute_result"
    },
    {
     "data": {
      "text/plain": [
       "LGBMRegressor()"
      ]
     },
     "execution_count": 65,
     "metadata": {},
     "output_type": "execute_result"
    }
   ],
   "source": [
    "svr.fit(X, y)\n",
    "rfr.fit(X, y)\n",
    "etr.fit(X, y)\n",
    "gbr.fit(X, y)\n",
    "xgbr.fit(X, y)\n",
    "ctr.fit(X, y, verbose=0)\n",
    "lgbmr.fit(X, y)"
   ]
  },
  {
   "cell_type": "code",
   "execution_count": 66,
   "id": "fa47313e",
   "metadata": {},
   "outputs": [],
   "source": [
    "y_pred_svra=svr.predict(testeo)\n",
    "y_pred_rfra=rfr.predict(testeo)\n",
    "y_pred_etra=etr.predict(testeo)\n",
    "y_pred_gbra=gbr.predict(testeo)\n",
    "y_pred_xgbra=xgbr.predict(testeo)\n",
    "y_pred_ctra=ctr.predict(testeo)\n",
    "y_pred_lgbmra=lgbmr.predict(testeo)"
   ]
  },
  {
   "cell_type": "code",
   "execution_count": 67,
   "id": "0bce2236",
   "metadata": {},
   "outputs": [],
   "source": [
    "y_pred_svr1b=svr.predict(X)\n",
    "y_pred_rfr1b=rfr.predict(X)\n",
    "y_pred_etr1b=etr.predict(X)\n",
    "y_pred_gbr1b=gbr.predict(X)\n",
    "y_pred_xgbr1b=xgbr.predict(X)\n",
    "y_pred_ctr1b=ctr.predict(X)\n",
    "y_pred_lgbmr1b=lgbmr.predict(X)"
   ]
  },
  {
   "cell_type": "code",
   "execution_count": 68,
   "id": "e13f3573",
   "metadata": {},
   "outputs": [
    {
     "data": {
      "text/plain": [
       "(70247.51191088151, -0.020331479815341558)"
      ]
     },
     "execution_count": 68,
     "metadata": {},
     "output_type": "execute_result"
    },
    {
     "data": {
      "text/plain": [
       "(70247.51191088151, -0.020331479815341558)"
      ]
     },
     "execution_count": 68,
     "metadata": {},
     "output_type": "execute_result"
    }
   ],
   "source": [
    "mse(y, y_pred_svr1b,squared=False), r2(y, y_pred_svr1b)"
   ]
  },
  {
   "cell_type": "code",
   "execution_count": 69,
   "id": "3044d4c1",
   "metadata": {},
   "outputs": [
    {
     "data": {
      "text/plain": [
       "(32704.190274496857, 0.7788503815334575)"
      ]
     },
     "execution_count": 69,
     "metadata": {},
     "output_type": "execute_result"
    },
    {
     "data": {
      "text/plain": [
       "(32704.190274496857, 0.7788503815334575)"
      ]
     },
     "execution_count": 69,
     "metadata": {},
     "output_type": "execute_result"
    }
   ],
   "source": [
    "mse(y, y_pred_rfr1b,squared=False), r2(y, y_pred_rfr1b)"
   ]
  },
  {
   "cell_type": "code",
   "execution_count": 70,
   "id": "47f80bfa",
   "metadata": {},
   "outputs": [
    {
     "data": {
      "text/plain": [
       "(29340.03413029139, 0.8220079429888056)"
      ]
     },
     "execution_count": 70,
     "metadata": {},
     "output_type": "execute_result"
    },
    {
     "data": {
      "text/plain": [
       "(29340.03413029139, 0.8220079429888056)"
      ]
     },
     "execution_count": 70,
     "metadata": {},
     "output_type": "execute_result"
    }
   ],
   "source": [
    "mse(y, y_pred_etr1b,squared=False), r2(y, y_pred_etr1b)"
   ]
  },
  {
   "cell_type": "code",
   "execution_count": 71,
   "id": "ba6c5895",
   "metadata": {},
   "outputs": [
    {
     "data": {
      "text/plain": [
       "(42765.926987801286, 0.6218403624478525)"
      ]
     },
     "execution_count": 71,
     "metadata": {},
     "output_type": "execute_result"
    },
    {
     "data": {
      "text/plain": [
       "(42765.926987801286, 0.6218403624478525)"
      ]
     },
     "execution_count": 71,
     "metadata": {},
     "output_type": "execute_result"
    }
   ],
   "source": [
    "mse(y, y_pred_gbr1b,squared=False), r2(y, y_pred_gbr1b)"
   ]
  },
  {
   "cell_type": "code",
   "execution_count": 72,
   "id": "8d4443e4",
   "metadata": {},
   "outputs": [
    {
     "data": {
      "text/plain": [
       "(29470.876706068375, 0.8204168836266386)"
      ]
     },
     "execution_count": 72,
     "metadata": {},
     "output_type": "execute_result"
    },
    {
     "data": {
      "text/plain": [
       "(29470.876706068375, 0.8204168836266386)"
      ]
     },
     "execution_count": 72,
     "metadata": {},
     "output_type": "execute_result"
    }
   ],
   "source": [
    "mse(y, y_pred_xgbr1b,squared=False), r2(y, y_pred_xgbr1b)"
   ]
  },
  {
   "cell_type": "code",
   "execution_count": 73,
   "id": "ff9f3ec5",
   "metadata": {},
   "outputs": [
    {
     "data": {
      "text/plain": [
       "(31622.814836796366, 0.7932333731008685)"
      ]
     },
     "execution_count": 73,
     "metadata": {},
     "output_type": "execute_result"
    },
    {
     "data": {
      "text/plain": [
       "(31622.814836796366, 0.7932333731008685)"
      ]
     },
     "execution_count": 73,
     "metadata": {},
     "output_type": "execute_result"
    }
   ],
   "source": [
    "mse(y, y_pred_ctr1b,squared=False), r2(y, y_pred_ctr1b)"
   ]
  },
  {
   "cell_type": "code",
   "execution_count": 74,
   "id": "cc2e02e7",
   "metadata": {},
   "outputs": [
    {
     "data": {
      "text/plain": [
       "(42449.15288689219, 0.6274217928680224)"
      ]
     },
     "execution_count": 74,
     "metadata": {},
     "output_type": "execute_result"
    },
    {
     "data": {
      "text/plain": [
       "(42449.15288689219, 0.6274217928680224)"
      ]
     },
     "execution_count": 74,
     "metadata": {},
     "output_type": "execute_result"
    }
   ],
   "source": [
    "mse(y, y_pred_lgbmr1b,squared=False), r2(y, y_pred_lgbmr1b)"
   ]
  }
 ],
 "metadata": {
  "kernelspec": {
   "display_name": "clase",
   "language": "python",
   "name": "clase"
  },
  "language_info": {
   "codemirror_mode": {
    "name": "ipython",
    "version": 3
   },
   "file_extension": ".py",
   "mimetype": "text/x-python",
   "name": "python",
   "nbconvert_exporter": "python",
   "pygments_lexer": "ipython3",
   "version": "3.7.13"
  }
 },
 "nbformat": 4,
 "nbformat_minor": 5
}
