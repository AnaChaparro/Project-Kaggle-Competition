{
 "cells": [
  {
   "cell_type": "markdown",
   "id": "fab8ffa3",
   "metadata": {},
   "source": [
    "# Project Kaggle Competition"
   ]
  },
  {
   "cell_type": "markdown",
   "id": "40de79b0",
   "metadata": {},
   "source": [
    "### Importación de librerías:"
   ]
  },
  {
   "cell_type": "code",
   "execution_count": 1,
   "id": "9cf343db",
   "metadata": {},
   "outputs": [],
   "source": [
    "import pandas as pd\n",
    "import numpy as np\n",
    "pd.options.display.float_format = '{:.3f}'.format\n",
    "\n",
    "import warnings\n",
    "warnings.filterwarnings('ignore')\n",
    "\n",
    "\n",
    "import pylab as plt\n",
    "import seaborn as sns\n",
    "\n",
    "\n",
    "from sklearn.preprocessing import LabelEncoder\n",
    "from sklearn.model_selection import train_test_split as tts\n",
    "\n",
    "from sklearn.preprocessing import StandardScaler\n",
    "\n",
    "\n",
    "from sklearn.metrics import mean_squared_error as mse\n",
    "from sklearn.metrics import r2_score as r2\n",
    "\n",
    "\n",
    "from sklearn.linear_model import LinearRegression as LinReg\n",
    "from sklearn.linear_model import Lasso        \n",
    "from sklearn.linear_model import Ridge        \n",
    "from sklearn.linear_model import ElasticNet\n",
    "\n",
    "\n",
    "from sklearn.svm import SVR\n",
    "\n",
    "\n",
    "from sklearn.ensemble import RandomForestRegressor as RFR  \n",
    "from sklearn.tree import ExtraTreeRegressor as ETR\n",
    "from sklearn.ensemble import GradientBoostingRegressor as GBR\n",
    "from xgboost import XGBRegressor as XGBR\n",
    "from catboost import CatBoostRegressor as CTR\n",
    "from lightgbm import LGBMRegressor as LGBMR"
   ]
  },
  {
   "cell_type": "markdown",
   "id": "60071e27",
   "metadata": {},
   "source": [
    "### Importación de los archivos y exploración de los datos:"
   ]
  },
  {
   "cell_type": "code",
   "execution_count": 2,
   "id": "67818170",
   "metadata": {},
   "outputs": [],
   "source": [
    "salaries=pd.read_csv('../Kaggle_Competition/data/salaries_data.csv')"
   ]
  },
  {
   "cell_type": "code",
   "execution_count": 3,
   "id": "9e2e868d",
   "metadata": {},
   "outputs": [
    {
     "data": {
      "text/html": [
       "<div>\n",
       "<style scoped>\n",
       "    .dataframe tbody tr th:only-of-type {\n",
       "        vertical-align: middle;\n",
       "    }\n",
       "\n",
       "    .dataframe tbody tr th {\n",
       "        vertical-align: top;\n",
       "    }\n",
       "\n",
       "    .dataframe thead th {\n",
       "        text-align: right;\n",
       "    }\n",
       "</style>\n",
       "<table border=\"1\" class=\"dataframe\">\n",
       "  <thead>\n",
       "    <tr style=\"text-align: right;\">\n",
       "      <th></th>\n",
       "      <th>work_year</th>\n",
       "      <th>experience_level</th>\n",
       "      <th>employment_type</th>\n",
       "      <th>job_title</th>\n",
       "      <th>salary</th>\n",
       "      <th>salary_currency</th>\n",
       "      <th>salary_in_usd</th>\n",
       "      <th>employee_residence</th>\n",
       "      <th>remote_ratio</th>\n",
       "      <th>company_location</th>\n",
       "      <th>company_size</th>\n",
       "    </tr>\n",
       "  </thead>\n",
       "  <tbody>\n",
       "    <tr>\n",
       "      <th>0</th>\n",
       "      <td>2022</td>\n",
       "      <td>SE</td>\n",
       "      <td>FT</td>\n",
       "      <td>Data Engineer</td>\n",
       "      <td>140250</td>\n",
       "      <td>USD</td>\n",
       "      <td>140250</td>\n",
       "      <td>US</td>\n",
       "      <td>100</td>\n",
       "      <td>US</td>\n",
       "      <td>M</td>\n",
       "    </tr>\n",
       "    <tr>\n",
       "      <th>1</th>\n",
       "      <td>2022</td>\n",
       "      <td>SE</td>\n",
       "      <td>FT</td>\n",
       "      <td>Data Engineer</td>\n",
       "      <td>135000</td>\n",
       "      <td>USD</td>\n",
       "      <td>135000</td>\n",
       "      <td>US</td>\n",
       "      <td>100</td>\n",
       "      <td>US</td>\n",
       "      <td>M</td>\n",
       "    </tr>\n",
       "    <tr>\n",
       "      <th>2</th>\n",
       "      <td>2021</td>\n",
       "      <td>MI</td>\n",
       "      <td>FT</td>\n",
       "      <td>BI Data Analyst</td>\n",
       "      <td>100000</td>\n",
       "      <td>USD</td>\n",
       "      <td>100000</td>\n",
       "      <td>US</td>\n",
       "      <td>100</td>\n",
       "      <td>US</td>\n",
       "      <td>M</td>\n",
       "    </tr>\n",
       "    <tr>\n",
       "      <th>3</th>\n",
       "      <td>2021</td>\n",
       "      <td>MI</td>\n",
       "      <td>CT</td>\n",
       "      <td>ML Engineer</td>\n",
       "      <td>270000</td>\n",
       "      <td>USD</td>\n",
       "      <td>270000</td>\n",
       "      <td>US</td>\n",
       "      <td>100</td>\n",
       "      <td>US</td>\n",
       "      <td>L</td>\n",
       "    </tr>\n",
       "    <tr>\n",
       "      <th>4</th>\n",
       "      <td>2021</td>\n",
       "      <td>MI</td>\n",
       "      <td>FT</td>\n",
       "      <td>Data Engineer</td>\n",
       "      <td>22000</td>\n",
       "      <td>EUR</td>\n",
       "      <td>26005</td>\n",
       "      <td>RO</td>\n",
       "      <td>0</td>\n",
       "      <td>US</td>\n",
       "      <td>L</td>\n",
       "    </tr>\n",
       "  </tbody>\n",
       "</table>\n",
       "</div>"
      ],
      "text/plain": [
       "   work_year experience_level employment_type        job_title  salary  \\\n",
       "0       2022               SE              FT    Data Engineer  140250   \n",
       "1       2022               SE              FT    Data Engineer  135000   \n",
       "2       2021               MI              FT  BI Data Analyst  100000   \n",
       "3       2021               MI              CT      ML Engineer  270000   \n",
       "4       2021               MI              FT    Data Engineer   22000   \n",
       "\n",
       "  salary_currency  salary_in_usd employee_residence  remote_ratio  \\\n",
       "0             USD         140250                 US           100   \n",
       "1             USD         135000                 US           100   \n",
       "2             USD         100000                 US           100   \n",
       "3             USD         270000                 US           100   \n",
       "4             EUR          26005                 RO             0   \n",
       "\n",
       "  company_location company_size  \n",
       "0               US            M  \n",
       "1               US            M  \n",
       "2               US            M  \n",
       "3               US            L  \n",
       "4               US            L  "
      ]
     },
     "execution_count": 3,
     "metadata": {},
     "output_type": "execute_result"
    }
   ],
   "source": [
    "salaries.head()"
   ]
  },
  {
   "cell_type": "code",
   "execution_count": 4,
   "id": "07251c9a",
   "metadata": {},
   "outputs": [
    {
     "name": "stdout",
     "output_type": "stream",
     "text": [
      "<class 'pandas.core.frame.DataFrame'>\n",
      "RangeIndex: 500 entries, 0 to 499\n",
      "Data columns (total 11 columns):\n",
      " #   Column              Non-Null Count  Dtype \n",
      "---  ------              --------------  ----- \n",
      " 0   work_year           500 non-null    int64 \n",
      " 1   experience_level    500 non-null    object\n",
      " 2   employment_type     500 non-null    object\n",
      " 3   job_title           500 non-null    object\n",
      " 4   salary              500 non-null    int64 \n",
      " 5   salary_currency     500 non-null    object\n",
      " 6   salary_in_usd       500 non-null    int64 \n",
      " 7   employee_residence  500 non-null    object\n",
      " 8   remote_ratio        500 non-null    int64 \n",
      " 9   company_location    500 non-null    object\n",
      " 10  company_size        500 non-null    object\n",
      "dtypes: int64(4), object(7)\n",
      "memory usage: 224.3 KB\n"
     ]
    }
   ],
   "source": [
    "salaries.info(memory_usage='deep')"
   ]
  },
  {
   "cell_type": "code",
   "execution_count": 5,
   "id": "acda750d",
   "metadata": {},
   "outputs": [],
   "source": [
    "testeo=pd.read_csv('../Kaggle_Competition/data/testeo.csv')"
   ]
  },
  {
   "cell_type": "code",
   "execution_count": 6,
   "id": "c4b279b5",
   "metadata": {},
   "outputs": [
    {
     "data": {
      "text/html": [
       "<div>\n",
       "<style scoped>\n",
       "    .dataframe tbody tr th:only-of-type {\n",
       "        vertical-align: middle;\n",
       "    }\n",
       "\n",
       "    .dataframe tbody tr th {\n",
       "        vertical-align: top;\n",
       "    }\n",
       "\n",
       "    .dataframe thead th {\n",
       "        text-align: right;\n",
       "    }\n",
       "</style>\n",
       "<table border=\"1\" class=\"dataframe\">\n",
       "  <thead>\n",
       "    <tr style=\"text-align: right;\">\n",
       "      <th></th>\n",
       "      <th>work_year</th>\n",
       "      <th>experience_level</th>\n",
       "      <th>employment_type</th>\n",
       "      <th>job_title</th>\n",
       "      <th>salary</th>\n",
       "      <th>salary_currency</th>\n",
       "      <th>employee_residence</th>\n",
       "      <th>remote_ratio</th>\n",
       "      <th>company_location</th>\n",
       "      <th>company_size</th>\n",
       "    </tr>\n",
       "  </thead>\n",
       "  <tbody>\n",
       "    <tr>\n",
       "      <th>0</th>\n",
       "      <td>2020</td>\n",
       "      <td>SE</td>\n",
       "      <td>FT</td>\n",
       "      <td>Machine Learning Scientist</td>\n",
       "      <td>260000</td>\n",
       "      <td>USD</td>\n",
       "      <td>JP</td>\n",
       "      <td>0</td>\n",
       "      <td>JP</td>\n",
       "      <td>S</td>\n",
       "    </tr>\n",
       "    <tr>\n",
       "      <th>1</th>\n",
       "      <td>2020</td>\n",
       "      <td>MI</td>\n",
       "      <td>FT</td>\n",
       "      <td>Lead Data Analyst</td>\n",
       "      <td>87000</td>\n",
       "      <td>USD</td>\n",
       "      <td>US</td>\n",
       "      <td>100</td>\n",
       "      <td>US</td>\n",
       "      <td>L</td>\n",
       "    </tr>\n",
       "    <tr>\n",
       "      <th>2</th>\n",
       "      <td>2020</td>\n",
       "      <td>MI</td>\n",
       "      <td>FT</td>\n",
       "      <td>Data Analyst</td>\n",
       "      <td>85000</td>\n",
       "      <td>USD</td>\n",
       "      <td>US</td>\n",
       "      <td>100</td>\n",
       "      <td>US</td>\n",
       "      <td>L</td>\n",
       "    </tr>\n",
       "    <tr>\n",
       "      <th>3</th>\n",
       "      <td>2020</td>\n",
       "      <td>MI</td>\n",
       "      <td>FT</td>\n",
       "      <td>Machine Learning Engineer</td>\n",
       "      <td>299000</td>\n",
       "      <td>CNY</td>\n",
       "      <td>CN</td>\n",
       "      <td>0</td>\n",
       "      <td>CN</td>\n",
       "      <td>M</td>\n",
       "    </tr>\n",
       "    <tr>\n",
       "      <th>4</th>\n",
       "      <td>2020</td>\n",
       "      <td>MI</td>\n",
       "      <td>FT</td>\n",
       "      <td>Product Data Analyst</td>\n",
       "      <td>450000</td>\n",
       "      <td>INR</td>\n",
       "      <td>IN</td>\n",
       "      <td>100</td>\n",
       "      <td>IN</td>\n",
       "      <td>L</td>\n",
       "    </tr>\n",
       "  </tbody>\n",
       "</table>\n",
       "</div>"
      ],
      "text/plain": [
       "   work_year experience_level employment_type                   job_title  \\\n",
       "0       2020               SE              FT  Machine Learning Scientist   \n",
       "1       2020               MI              FT           Lead Data Analyst   \n",
       "2       2020               MI              FT                Data Analyst   \n",
       "3       2020               MI              FT   Machine Learning Engineer   \n",
       "4       2020               MI              FT        Product Data Analyst   \n",
       "\n",
       "   salary salary_currency employee_residence  remote_ratio company_location  \\\n",
       "0  260000             USD                 JP             0               JP   \n",
       "1   87000             USD                 US           100               US   \n",
       "2   85000             USD                 US           100               US   \n",
       "3  299000             CNY                 CN             0               CN   \n",
       "4  450000             INR                 IN           100               IN   \n",
       "\n",
       "  company_size  \n",
       "0            S  \n",
       "1            L  \n",
       "2            L  \n",
       "3            M  \n",
       "4            L  "
      ]
     },
     "execution_count": 6,
     "metadata": {},
     "output_type": "execute_result"
    }
   ],
   "source": [
    "testeo.head()"
   ]
  },
  {
   "cell_type": "code",
   "execution_count": 7,
   "id": "8fe4473f",
   "metadata": {},
   "outputs": [
    {
     "name": "stdout",
     "output_type": "stream",
     "text": [
      "<class 'pandas.core.frame.DataFrame'>\n",
      "RangeIndex: 107 entries, 0 to 106\n",
      "Data columns (total 10 columns):\n",
      " #   Column              Non-Null Count  Dtype \n",
      "---  ------              --------------  ----- \n",
      " 0   work_year           107 non-null    int64 \n",
      " 1   experience_level    107 non-null    object\n",
      " 2   employment_type     107 non-null    object\n",
      " 3   job_title           107 non-null    object\n",
      " 4   salary              107 non-null    int64 \n",
      " 5   salary_currency     107 non-null    object\n",
      " 6   employee_residence  107 non-null    object\n",
      " 7   remote_ratio        107 non-null    int64 \n",
      " 8   company_location    107 non-null    object\n",
      " 9   company_size        107 non-null    object\n",
      "dtypes: int64(3), object(7)\n",
      "memory usage: 47.4 KB\n"
     ]
    }
   ],
   "source": [
    "testeo.info(memory_usage='deep')"
   ]
  },
  {
   "cell_type": "code",
   "execution_count": 8,
   "id": "91914541",
   "metadata": {},
   "outputs": [
    {
     "data": {
      "text/plain": [
       "company_location\n",
       "AE   100000.000\n",
       "AS    18053.000\n",
       "AT    76738.667\n",
       "AU    87064.000\n",
       "BE    85699.000\n",
       "BR    21453.500\n",
       "CA   101037.360\n",
       "CH    64114.000\n",
       "CL    40038.000\n",
       "CN   100000.000\n",
       "CZ    69999.000\n",
       "DE    85303.304\n",
       "DK    88654.000\n",
       "DZ   100000.000\n",
       "EE    32974.000\n",
       "ES    51970.000\n",
       "FR    64764.750\n",
       "GB    78379.732\n",
       "GR    52576.300\n",
       "HN    20000.000\n",
       "HU    35735.000\n",
       "IE    71444.000\n",
       "IN    31242.368\n",
       "IR     4000.000\n",
       "JP    87691.000\n",
       "KE     9272.000\n",
       "LU    43942.667\n",
       "MD    18000.000\n",
       "MT    28369.000\n",
       "MX     2859.000\n",
       "NG    30000.000\n",
       "NL    54945.750\n",
       "NZ   125000.000\n",
       "PK    13333.333\n",
       "PL    76246.667\n",
       "PT    47793.750\n",
       "RO    60000.000\n",
       "SG    89294.000\n",
       "SI    63831.000\n",
       "TR    20096.667\n",
       "UA    13400.000\n",
       "US   144892.682\n",
       "VN     4000.000\n",
       "Name: salary_in_usd, dtype: float64"
      ]
     },
     "execution_count": 8,
     "metadata": {},
     "output_type": "execute_result"
    }
   ],
   "source": [
    "salaries.groupby('company_location').salary_in_usd.mean()"
   ]
  },
  {
   "cell_type": "code",
   "execution_count": 9,
   "id": "6481171f",
   "metadata": {},
   "outputs": [
    {
     "data": {
      "text/plain": [
       "experience_level\n",
       "EN    59989.569\n",
       "EX   196078.850\n",
       "MI    90384.610\n",
       "SE   136341.794\n",
       "Name: salary_in_usd, dtype: float64"
      ]
     },
     "execution_count": 9,
     "metadata": {},
     "output_type": "execute_result"
    }
   ],
   "source": [
    "salaries.groupby('experience_level').salary_in_usd.mean()"
   ]
  },
  {
   "cell_type": "code",
   "execution_count": 10,
   "id": "d77d9fe0",
   "metadata": {},
   "outputs": [
    {
     "data": {
      "text/plain": [
       "employment_type\n",
       "CT   222750.000\n",
       "FL    48000.000\n",
       "FT   113914.630\n",
       "PT    35053.375\n",
       "Name: salary_in_usd, dtype: float64"
      ]
     },
     "execution_count": 10,
     "metadata": {},
     "output_type": "execute_result"
    }
   ],
   "source": [
    "salaries.groupby('employment_type').salary_in_usd.mean()"
   ]
  },
  {
   "cell_type": "code",
   "execution_count": 11,
   "id": "b3fee44c",
   "metadata": {},
   "outputs": [
    {
     "data": {
      "text/plain": [
       "company_size\n",
       "L   121031.376\n",
       "M   115805.495\n",
       "S    79242.435\n",
       "Name: salary_in_usd, dtype: float64"
      ]
     },
     "execution_count": 11,
     "metadata": {},
     "output_type": "execute_result"
    }
   ],
   "source": [
    "salaries.groupby('company_size').salary_in_usd.mean()"
   ]
  },
  {
   "cell_type": "code",
   "execution_count": 12,
   "id": "388ab0b6",
   "metadata": {},
   "outputs": [
    {
     "data": {
      "text/plain": [
       "company_location\n",
       "AE   100000.000\n",
       "AS    18053.000\n",
       "AT    76738.667\n",
       "AU    87064.000\n",
       "BE    85699.000\n",
       "BR    21453.500\n",
       "CA   101037.360\n",
       "CH    64114.000\n",
       "CL    40038.000\n",
       "CN   100000.000\n",
       "CZ    69999.000\n",
       "DE    85303.304\n",
       "DK    88654.000\n",
       "DZ   100000.000\n",
       "EE    32974.000\n",
       "ES    51970.000\n",
       "FR    64764.750\n",
       "GB    78379.732\n",
       "GR    52576.300\n",
       "HN    20000.000\n",
       "HU    35735.000\n",
       "IE    71444.000\n",
       "IN    31242.368\n",
       "IR     4000.000\n",
       "JP    87691.000\n",
       "KE     9272.000\n",
       "LU    43942.667\n",
       "MD    18000.000\n",
       "MT    28369.000\n",
       "MX     2859.000\n",
       "NG    30000.000\n",
       "NL    54945.750\n",
       "NZ   125000.000\n",
       "PK    13333.333\n",
       "PL    76246.667\n",
       "PT    47793.750\n",
       "RO    60000.000\n",
       "SG    89294.000\n",
       "SI    63831.000\n",
       "TR    20096.667\n",
       "UA    13400.000\n",
       "US   144892.682\n",
       "VN     4000.000\n",
       "Name: salary_in_usd, dtype: float64"
      ]
     },
     "execution_count": 12,
     "metadata": {},
     "output_type": "execute_result"
    }
   ],
   "source": [
    "salaries.groupby('company_location').salary_in_usd.mean()"
   ]
  },
  {
   "cell_type": "markdown",
   "id": "d15bf4d0",
   "metadata": {},
   "source": [
    "## Limpieza:"
   ]
  },
  {
   "cell_type": "markdown",
   "id": "b11530c4",
   "metadata": {},
   "source": [
    "#### Eliminación de OUTLIERS:"
   ]
  },
  {
   "cell_type": "code",
   "execution_count": 13,
   "id": "8578e621",
   "metadata": {},
   "outputs": [],
   "source": [
    "stats=salaries.describe().T\n",
    "\n",
    "stats['IQR']=stats['75%']-stats['25%']\n",
    "\n",
    "outliers=pd.DataFrame(columns=stats.index)\n",
    "\n",
    "for c in stats.index:\n",
    "    \n",
    "    iqr=stats.at[c, 'IQR']\n",
    "    \n",
    "    cutoff=1.5 * iqr   \n",
    "    lower=stats.at[c, '25%'] - cutoff\n",
    "    upper=stats.at[c, '75%'] + cutoff\n",
    "    \n",
    "    res=salaries[(salaries[c] < lower) | (salaries[c] > upper)].copy()\n",
    "    res['outliers']=c\n",
    "    \n",
    "    outliers=outliers.append(res, sort=True)\n",
    "\n",
    "outliers['outliers'].value_counts()\n",
    "\n",
    "clean_index=[i for i in salaries.index if i not in outliers.index]\n",
    "\n",
    "salaries=salaries.iloc[clean_index]"
   ]
  },
  {
   "cell_type": "markdown",
   "id": "11e7bb3e",
   "metadata": {},
   "source": [
    "#### Eliminación de las columnas que no se consideran relevantes:"
   ]
  },
  {
   "cell_type": "code",
   "execution_count": 14,
   "id": "06c042ff",
   "metadata": {},
   "outputs": [],
   "source": [
    "salaries=salaries.drop(['employee_residence'], axis = 1)"
   ]
  },
  {
   "cell_type": "code",
   "execution_count": 15,
   "id": "fcb470b1",
   "metadata": {},
   "outputs": [],
   "source": [
    "testeo=testeo.drop(['employee_residence'], axis = 1)"
   ]
  },
  {
   "cell_type": "markdown",
   "id": "7fb60b7c",
   "metadata": {},
   "source": [
    "Se establece la y, que será la columna a predecir:"
   ]
  },
  {
   "cell_type": "code",
   "execution_count": 16,
   "id": "63ccdeba",
   "metadata": {},
   "outputs": [],
   "source": [
    "y=salaries.salary_in_usd"
   ]
  },
  {
   "cell_type": "markdown",
   "id": "63a61809",
   "metadata": {},
   "source": [
    "Se eliminan las columnas salary y salary_currency, que influyen de manera directa en la y:"
   ]
  },
  {
   "cell_type": "code",
   "execution_count": 17,
   "id": "f48094e4",
   "metadata": {},
   "outputs": [],
   "source": [
    "salaries=salaries.drop(['salary','salary_currency'], axis = 1)"
   ]
  },
  {
   "cell_type": "code",
   "execution_count": 18,
   "id": "40622fa0",
   "metadata": {},
   "outputs": [],
   "source": [
    "testeo=testeo.drop(['salary','salary_currency'], axis = 1)"
   ]
  },
  {
   "cell_type": "code",
   "execution_count": 19,
   "id": "dcad4350",
   "metadata": {},
   "outputs": [
    {
     "data": {
      "text/plain": [
       "array(['SE', 'MI', 'EN', 'EX'], dtype=object)"
      ]
     },
     "execution_count": 19,
     "metadata": {},
     "output_type": "execute_result"
    }
   ],
   "source": [
    "#Verificamos los tipos de datos:\n",
    "\n",
    "salaries.experience_level.unique()"
   ]
  },
  {
   "cell_type": "code",
   "execution_count": 20,
   "id": "91d57e7d",
   "metadata": {},
   "outputs": [
    {
     "data": {
      "text/plain": [
       "array(['FT', 'CT', 'FL', 'PT'], dtype=object)"
      ]
     },
     "execution_count": 20,
     "metadata": {},
     "output_type": "execute_result"
    }
   ],
   "source": [
    "salaries.employment_type.unique()"
   ]
  },
  {
   "cell_type": "code",
   "execution_count": 21,
   "id": "edab18c8",
   "metadata": {},
   "outputs": [
    {
     "data": {
      "text/plain": [
       "array(['Data Engineer', 'BI Data Analyst', 'ML Engineer',\n",
       "       'Machine Learning Scientist', 'Data Scientist', 'Data Analyst',\n",
       "       'Machine Learning Engineer', 'Principal Data Scientist',\n",
       "       'Data Engineering Manager', 'Data Analytics Manager',\n",
       "       'Big Data Engineer', 'Research Scientist',\n",
       "       'Machine Learning Developer', 'Computer Vision Engineer',\n",
       "       'Machine Learning Manager', 'Lead Data Scientist',\n",
       "       'Director of Data Science', 'Data Specialist',\n",
       "       'Applied Data Scientist', 'AI Scientist', 'Data Science Engineer',\n",
       "       'Head of Data', 'Analytics Engineer', 'ETL Developer',\n",
       "       'Marketing Data Analyst', 'Data Architect',\n",
       "       'Data Science Consultant', 'Principal Data Analyst',\n",
       "       'Head of Data Science', 'Lead Data Engineer',\n",
       "       'Data Science Manager', 'Applied Machine Learning Scientist',\n",
       "       'Lead Data Analyst', 'Cloud Data Engineer',\n",
       "       'Lead Machine Learning Engineer',\n",
       "       'Machine Learning Infrastructure Engineer', 'Big Data Architect',\n",
       "       'Product Data Analyst', 'Business Data Analyst',\n",
       "       'Director of Data Engineering', 'Finance Data Analyst',\n",
       "       'Staff Data Scientist', 'Data Analytics Engineer',\n",
       "       'Computer Vision Software Engineer'], dtype=object)"
      ]
     },
     "execution_count": 21,
     "metadata": {},
     "output_type": "execute_result"
    }
   ],
   "source": [
    "salaries.job_title.unique()"
   ]
  },
  {
   "cell_type": "code",
   "execution_count": 22,
   "id": "1dffc446",
   "metadata": {},
   "outputs": [
    {
     "data": {
      "text/plain": [
       "array([100,   0,  50])"
      ]
     },
     "execution_count": 22,
     "metadata": {},
     "output_type": "execute_result"
    }
   ],
   "source": [
    "salaries.remote_ratio.unique()"
   ]
  },
  {
   "cell_type": "code",
   "execution_count": 23,
   "id": "51a94a62",
   "metadata": {},
   "outputs": [
    {
     "data": {
      "text/plain": [
       "array(['US', 'FR', 'GR', 'LU', 'SI', 'DE', 'GB', 'PK', 'MD', 'CA', 'IE',\n",
       "       'AE', 'MX', 'VN', 'BE', 'KE', 'ES', 'CH', 'CN', 'DK', 'TR', 'NZ',\n",
       "       'PL', 'UA', 'AU', 'NG', 'EE', 'CZ', 'AT', 'BR', 'DZ', 'IR', 'NL',\n",
       "       'PT', 'HN', 'MT', 'JP', 'RO', 'SG'], dtype=object)"
      ]
     },
     "execution_count": 23,
     "metadata": {},
     "output_type": "execute_result"
    }
   ],
   "source": [
    "salaries.company_location.unique()"
   ]
  },
  {
   "cell_type": "code",
   "execution_count": 24,
   "id": "0dc066ce",
   "metadata": {},
   "outputs": [
    {
     "data": {
      "text/plain": [
       "array(['M', 'L', 'S'], dtype=object)"
      ]
     },
     "execution_count": 24,
     "metadata": {},
     "output_type": "execute_result"
    }
   ],
   "source": [
    "salaries.company_size.unique()"
   ]
  },
  {
   "cell_type": "markdown",
   "id": "30de247a",
   "metadata": {},
   "source": [
    "Se determinan las dimesiones de ambos DF antes de concatenarlos y se elimina la columana a predecir de salaries:"
   ]
  },
  {
   "cell_type": "code",
   "execution_count": 25,
   "id": "cbf9fde6",
   "metadata": {},
   "outputs": [
    {
     "data": {
      "text/plain": [
       "(463, 8)"
      ]
     },
     "execution_count": 25,
     "metadata": {},
     "output_type": "execute_result"
    }
   ],
   "source": [
    "salaries.shape"
   ]
  },
  {
   "cell_type": "code",
   "execution_count": 26,
   "id": "15783ae1",
   "metadata": {},
   "outputs": [
    {
     "data": {
      "text/plain": [
       "(107, 7)"
      ]
     },
     "execution_count": 26,
     "metadata": {},
     "output_type": "execute_result"
    }
   ],
   "source": [
    "testeo.shape"
   ]
  },
  {
   "cell_type": "code",
   "execution_count": 27,
   "id": "0ea80b15",
   "metadata": {},
   "outputs": [],
   "source": [
    "salaries=salaries.drop('salary_in_usd', axis = 1)"
   ]
  },
  {
   "cell_type": "code",
   "execution_count": 28,
   "id": "d1e8511e",
   "metadata": {},
   "outputs": [
    {
     "data": {
      "text/plain": [
       "(463, 7)"
      ]
     },
     "execution_count": 28,
     "metadata": {},
     "output_type": "execute_result"
    }
   ],
   "source": [
    "salaries.shape"
   ]
  },
  {
   "cell_type": "code",
   "execution_count": 29,
   "id": "9d0bc815",
   "metadata": {},
   "outputs": [],
   "source": [
    "total=pd.concat([salaries, testeo], axis=0)"
   ]
  },
  {
   "cell_type": "code",
   "execution_count": 30,
   "id": "b7c096b8",
   "metadata": {},
   "outputs": [
    {
     "data": {
      "text/plain": [
       "(570, 7)"
      ]
     },
     "execution_count": 30,
     "metadata": {},
     "output_type": "execute_result"
    }
   ],
   "source": [
    "total.shape"
   ]
  },
  {
   "cell_type": "markdown",
   "id": "866dd26e",
   "metadata": {},
   "source": [
    "#### Se nromalizan las columnas de work_year y remote_ratio ya que el orden de magnitud difiere mucho del resto de columnas:"
   ]
  },
  {
   "cell_type": "code",
   "execution_count": 31,
   "id": "f20e8069",
   "metadata": {},
   "outputs": [],
   "source": [
    "from sklearn.preprocessing import StandardScaler\n",
    "\n",
    "scaler=StandardScaler()\n",
    "\n",
    "total[['work_year', 'remote_ratio']]=scaler.fit_transform(total[['work_year', 'remote_ratio']])\n"
   ]
  },
  {
   "cell_type": "markdown",
   "id": "11c53e93",
   "metadata": {},
   "source": [
    "#### Se hace get dummies de todas las columnas categóricas para pasarlas a numérricas:"
   ]
  },
  {
   "cell_type": "code",
   "execution_count": 32,
   "id": "ebc80977",
   "metadata": {},
   "outputs": [],
   "source": [
    "total=pd.get_dummies(total, columns=['experience_level','employment_type',\n",
    "                                     'job_title','company_location','company_size'], drop_first=False)"
   ]
  },
  {
   "cell_type": "markdown",
   "id": "aff593a8",
   "metadata": {},
   "source": [
    "### Se separan de nuevo salaries y testeo al haberse ya realizando todas las transformaciones:"
   ]
  },
  {
   "cell_type": "code",
   "execution_count": 33,
   "id": "cc7c232c",
   "metadata": {},
   "outputs": [],
   "source": [
    "X=total.iloc[:463]"
   ]
  },
  {
   "cell_type": "code",
   "execution_count": 34,
   "id": "696300ab",
   "metadata": {},
   "outputs": [
    {
     "data": {
      "text/plain": [
       "(463, 107)"
      ]
     },
     "execution_count": 34,
     "metadata": {},
     "output_type": "execute_result"
    }
   ],
   "source": [
    "X.shape"
   ]
  },
  {
   "cell_type": "code",
   "execution_count": 35,
   "id": "6a96928f",
   "metadata": {},
   "outputs": [
    {
     "data": {
      "text/html": [
       "<div>\n",
       "<style scoped>\n",
       "    .dataframe tbody tr th:only-of-type {\n",
       "        vertical-align: middle;\n",
       "    }\n",
       "\n",
       "    .dataframe tbody tr th {\n",
       "        vertical-align: top;\n",
       "    }\n",
       "\n",
       "    .dataframe thead th {\n",
       "        text-align: right;\n",
       "    }\n",
       "</style>\n",
       "<table border=\"1\" class=\"dataframe\">\n",
       "  <thead>\n",
       "    <tr style=\"text-align: right;\">\n",
       "      <th></th>\n",
       "      <th>work_year</th>\n",
       "      <th>remote_ratio</th>\n",
       "      <th>experience_level_EN</th>\n",
       "      <th>experience_level_EX</th>\n",
       "      <th>experience_level_MI</th>\n",
       "      <th>experience_level_SE</th>\n",
       "      <th>employment_type_CT</th>\n",
       "      <th>employment_type_FL</th>\n",
       "      <th>employment_type_FT</th>\n",
       "      <th>employment_type_PT</th>\n",
       "      <th>...</th>\n",
       "      <th>company_location_RU</th>\n",
       "      <th>company_location_SG</th>\n",
       "      <th>company_location_SI</th>\n",
       "      <th>company_location_TR</th>\n",
       "      <th>company_location_UA</th>\n",
       "      <th>company_location_US</th>\n",
       "      <th>company_location_VN</th>\n",
       "      <th>company_size_L</th>\n",
       "      <th>company_size_M</th>\n",
       "      <th>company_size_S</th>\n",
       "    </tr>\n",
       "  </thead>\n",
       "  <tbody>\n",
       "    <tr>\n",
       "      <th>0</th>\n",
       "      <td>0.821</td>\n",
       "      <td>0.700</td>\n",
       "      <td>0</td>\n",
       "      <td>0</td>\n",
       "      <td>0</td>\n",
       "      <td>1</td>\n",
       "      <td>0</td>\n",
       "      <td>0</td>\n",
       "      <td>1</td>\n",
       "      <td>0</td>\n",
       "      <td>...</td>\n",
       "      <td>0</td>\n",
       "      <td>0</td>\n",
       "      <td>0</td>\n",
       "      <td>0</td>\n",
       "      <td>0</td>\n",
       "      <td>1</td>\n",
       "      <td>0</td>\n",
       "      <td>0</td>\n",
       "      <td>1</td>\n",
       "      <td>0</td>\n",
       "    </tr>\n",
       "    <tr>\n",
       "      <th>1</th>\n",
       "      <td>0.821</td>\n",
       "      <td>0.700</td>\n",
       "      <td>0</td>\n",
       "      <td>0</td>\n",
       "      <td>0</td>\n",
       "      <td>1</td>\n",
       "      <td>0</td>\n",
       "      <td>0</td>\n",
       "      <td>1</td>\n",
       "      <td>0</td>\n",
       "      <td>...</td>\n",
       "      <td>0</td>\n",
       "      <td>0</td>\n",
       "      <td>0</td>\n",
       "      <td>0</td>\n",
       "      <td>0</td>\n",
       "      <td>1</td>\n",
       "      <td>0</td>\n",
       "      <td>0</td>\n",
       "      <td>1</td>\n",
       "      <td>0</td>\n",
       "    </tr>\n",
       "    <tr>\n",
       "      <th>2</th>\n",
       "      <td>-0.637</td>\n",
       "      <td>0.700</td>\n",
       "      <td>0</td>\n",
       "      <td>0</td>\n",
       "      <td>1</td>\n",
       "      <td>0</td>\n",
       "      <td>0</td>\n",
       "      <td>0</td>\n",
       "      <td>1</td>\n",
       "      <td>0</td>\n",
       "      <td>...</td>\n",
       "      <td>0</td>\n",
       "      <td>0</td>\n",
       "      <td>0</td>\n",
       "      <td>0</td>\n",
       "      <td>0</td>\n",
       "      <td>1</td>\n",
       "      <td>0</td>\n",
       "      <td>0</td>\n",
       "      <td>1</td>\n",
       "      <td>0</td>\n",
       "    </tr>\n",
       "    <tr>\n",
       "      <th>3</th>\n",
       "      <td>-0.637</td>\n",
       "      <td>0.700</td>\n",
       "      <td>0</td>\n",
       "      <td>0</td>\n",
       "      <td>1</td>\n",
       "      <td>0</td>\n",
       "      <td>1</td>\n",
       "      <td>0</td>\n",
       "      <td>0</td>\n",
       "      <td>0</td>\n",
       "      <td>...</td>\n",
       "      <td>0</td>\n",
       "      <td>0</td>\n",
       "      <td>0</td>\n",
       "      <td>0</td>\n",
       "      <td>0</td>\n",
       "      <td>1</td>\n",
       "      <td>0</td>\n",
       "      <td>1</td>\n",
       "      <td>0</td>\n",
       "      <td>0</td>\n",
       "    </tr>\n",
       "    <tr>\n",
       "      <th>4</th>\n",
       "      <td>-0.637</td>\n",
       "      <td>-1.757</td>\n",
       "      <td>0</td>\n",
       "      <td>0</td>\n",
       "      <td>1</td>\n",
       "      <td>0</td>\n",
       "      <td>0</td>\n",
       "      <td>0</td>\n",
       "      <td>1</td>\n",
       "      <td>0</td>\n",
       "      <td>...</td>\n",
       "      <td>0</td>\n",
       "      <td>0</td>\n",
       "      <td>0</td>\n",
       "      <td>0</td>\n",
       "      <td>0</td>\n",
       "      <td>1</td>\n",
       "      <td>0</td>\n",
       "      <td>1</td>\n",
       "      <td>0</td>\n",
       "      <td>0</td>\n",
       "    </tr>\n",
       "    <tr>\n",
       "      <th>...</th>\n",
       "      <td>...</td>\n",
       "      <td>...</td>\n",
       "      <td>...</td>\n",
       "      <td>...</td>\n",
       "      <td>...</td>\n",
       "      <td>...</td>\n",
       "      <td>...</td>\n",
       "      <td>...</td>\n",
       "      <td>...</td>\n",
       "      <td>...</td>\n",
       "      <td>...</td>\n",
       "      <td>...</td>\n",
       "      <td>...</td>\n",
       "      <td>...</td>\n",
       "      <td>...</td>\n",
       "      <td>...</td>\n",
       "      <td>...</td>\n",
       "      <td>...</td>\n",
       "      <td>...</td>\n",
       "      <td>...</td>\n",
       "      <td>...</td>\n",
       "    </tr>\n",
       "    <tr>\n",
       "      <th>494</th>\n",
       "      <td>0.821</td>\n",
       "      <td>0.700</td>\n",
       "      <td>0</td>\n",
       "      <td>0</td>\n",
       "      <td>0</td>\n",
       "      <td>1</td>\n",
       "      <td>0</td>\n",
       "      <td>0</td>\n",
       "      <td>1</td>\n",
       "      <td>0</td>\n",
       "      <td>...</td>\n",
       "      <td>0</td>\n",
       "      <td>0</td>\n",
       "      <td>0</td>\n",
       "      <td>0</td>\n",
       "      <td>0</td>\n",
       "      <td>1</td>\n",
       "      <td>0</td>\n",
       "      <td>0</td>\n",
       "      <td>1</td>\n",
       "      <td>0</td>\n",
       "    </tr>\n",
       "    <tr>\n",
       "      <th>495</th>\n",
       "      <td>0.821</td>\n",
       "      <td>0.700</td>\n",
       "      <td>0</td>\n",
       "      <td>0</td>\n",
       "      <td>0</td>\n",
       "      <td>1</td>\n",
       "      <td>0</td>\n",
       "      <td>0</td>\n",
       "      <td>1</td>\n",
       "      <td>0</td>\n",
       "      <td>...</td>\n",
       "      <td>0</td>\n",
       "      <td>0</td>\n",
       "      <td>0</td>\n",
       "      <td>0</td>\n",
       "      <td>0</td>\n",
       "      <td>1</td>\n",
       "      <td>0</td>\n",
       "      <td>0</td>\n",
       "      <td>1</td>\n",
       "      <td>0</td>\n",
       "    </tr>\n",
       "    <tr>\n",
       "      <th>497</th>\n",
       "      <td>0.821</td>\n",
       "      <td>0.700</td>\n",
       "      <td>0</td>\n",
       "      <td>0</td>\n",
       "      <td>0</td>\n",
       "      <td>1</td>\n",
       "      <td>0</td>\n",
       "      <td>0</td>\n",
       "      <td>1</td>\n",
       "      <td>0</td>\n",
       "      <td>...</td>\n",
       "      <td>0</td>\n",
       "      <td>0</td>\n",
       "      <td>0</td>\n",
       "      <td>0</td>\n",
       "      <td>0</td>\n",
       "      <td>0</td>\n",
       "      <td>0</td>\n",
       "      <td>0</td>\n",
       "      <td>1</td>\n",
       "      <td>0</td>\n",
       "    </tr>\n",
       "    <tr>\n",
       "      <th>498</th>\n",
       "      <td>-0.637</td>\n",
       "      <td>0.700</td>\n",
       "      <td>0</td>\n",
       "      <td>0</td>\n",
       "      <td>1</td>\n",
       "      <td>0</td>\n",
       "      <td>0</td>\n",
       "      <td>0</td>\n",
       "      <td>1</td>\n",
       "      <td>0</td>\n",
       "      <td>...</td>\n",
       "      <td>0</td>\n",
       "      <td>0</td>\n",
       "      <td>0</td>\n",
       "      <td>0</td>\n",
       "      <td>0</td>\n",
       "      <td>0</td>\n",
       "      <td>0</td>\n",
       "      <td>1</td>\n",
       "      <td>0</td>\n",
       "      <td>0</td>\n",
       "    </tr>\n",
       "    <tr>\n",
       "      <th>499</th>\n",
       "      <td>-0.637</td>\n",
       "      <td>0.700</td>\n",
       "      <td>1</td>\n",
       "      <td>0</td>\n",
       "      <td>0</td>\n",
       "      <td>0</td>\n",
       "      <td>0</td>\n",
       "      <td>0</td>\n",
       "      <td>1</td>\n",
       "      <td>0</td>\n",
       "      <td>...</td>\n",
       "      <td>0</td>\n",
       "      <td>0</td>\n",
       "      <td>0</td>\n",
       "      <td>0</td>\n",
       "      <td>0</td>\n",
       "      <td>1</td>\n",
       "      <td>0</td>\n",
       "      <td>0</td>\n",
       "      <td>1</td>\n",
       "      <td>0</td>\n",
       "    </tr>\n",
       "  </tbody>\n",
       "</table>\n",
       "<p>463 rows × 107 columns</p>\n",
       "</div>"
      ],
      "text/plain": [
       "     work_year  remote_ratio  experience_level_EN  experience_level_EX  \\\n",
       "0        0.821         0.700                    0                    0   \n",
       "1        0.821         0.700                    0                    0   \n",
       "2       -0.637         0.700                    0                    0   \n",
       "3       -0.637         0.700                    0                    0   \n",
       "4       -0.637        -1.757                    0                    0   \n",
       "..         ...           ...                  ...                  ...   \n",
       "494      0.821         0.700                    0                    0   \n",
       "495      0.821         0.700                    0                    0   \n",
       "497      0.821         0.700                    0                    0   \n",
       "498     -0.637         0.700                    0                    0   \n",
       "499     -0.637         0.700                    1                    0   \n",
       "\n",
       "     experience_level_MI  experience_level_SE  employment_type_CT  \\\n",
       "0                      0                    1                   0   \n",
       "1                      0                    1                   0   \n",
       "2                      1                    0                   0   \n",
       "3                      1                    0                   1   \n",
       "4                      1                    0                   0   \n",
       "..                   ...                  ...                 ...   \n",
       "494                    0                    1                   0   \n",
       "495                    0                    1                   0   \n",
       "497                    0                    1                   0   \n",
       "498                    1                    0                   0   \n",
       "499                    0                    0                   0   \n",
       "\n",
       "     employment_type_FL  employment_type_FT  employment_type_PT  ...  \\\n",
       "0                     0                   1                   0  ...   \n",
       "1                     0                   1                   0  ...   \n",
       "2                     0                   1                   0  ...   \n",
       "3                     0                   0                   0  ...   \n",
       "4                     0                   1                   0  ...   \n",
       "..                  ...                 ...                 ...  ...   \n",
       "494                   0                   1                   0  ...   \n",
       "495                   0                   1                   0  ...   \n",
       "497                   0                   1                   0  ...   \n",
       "498                   0                   1                   0  ...   \n",
       "499                   0                   1                   0  ...   \n",
       "\n",
       "     company_location_RU  company_location_SG  company_location_SI  \\\n",
       "0                      0                    0                    0   \n",
       "1                      0                    0                    0   \n",
       "2                      0                    0                    0   \n",
       "3                      0                    0                    0   \n",
       "4                      0                    0                    0   \n",
       "..                   ...                  ...                  ...   \n",
       "494                    0                    0                    0   \n",
       "495                    0                    0                    0   \n",
       "497                    0                    0                    0   \n",
       "498                    0                    0                    0   \n",
       "499                    0                    0                    0   \n",
       "\n",
       "     company_location_TR  company_location_UA  company_location_US  \\\n",
       "0                      0                    0                    1   \n",
       "1                      0                    0                    1   \n",
       "2                      0                    0                    1   \n",
       "3                      0                    0                    1   \n",
       "4                      0                    0                    1   \n",
       "..                   ...                  ...                  ...   \n",
       "494                    0                    0                    1   \n",
       "495                    0                    0                    1   \n",
       "497                    0                    0                    0   \n",
       "498                    0                    0                    0   \n",
       "499                    0                    0                    1   \n",
       "\n",
       "     company_location_VN  company_size_L  company_size_M  company_size_S  \n",
       "0                      0               0               1               0  \n",
       "1                      0               0               1               0  \n",
       "2                      0               0               1               0  \n",
       "3                      0               1               0               0  \n",
       "4                      0               1               0               0  \n",
       "..                   ...             ...             ...             ...  \n",
       "494                    0               0               1               0  \n",
       "495                    0               0               1               0  \n",
       "497                    0               0               1               0  \n",
       "498                    0               1               0               0  \n",
       "499                    0               0               1               0  \n",
       "\n",
       "[463 rows x 107 columns]"
      ]
     },
     "execution_count": 35,
     "metadata": {},
     "output_type": "execute_result"
    }
   ],
   "source": [
    "X"
   ]
  },
  {
   "cell_type": "code",
   "execution_count": 36,
   "id": "cb5ef635",
   "metadata": {},
   "outputs": [],
   "source": [
    "testeo=total.iloc[463:]"
   ]
  },
  {
   "cell_type": "code",
   "execution_count": 37,
   "id": "b4f4a0da",
   "metadata": {},
   "outputs": [
    {
     "data": {
      "text/plain": [
       "(107, 107)"
      ]
     },
     "execution_count": 37,
     "metadata": {},
     "output_type": "execute_result"
    }
   ],
   "source": [
    "testeo.shape"
   ]
  },
  {
   "cell_type": "code",
   "execution_count": 38,
   "id": "353bb2f3",
   "metadata": {},
   "outputs": [
    {
     "data": {
      "text/html": [
       "<div>\n",
       "<style scoped>\n",
       "    .dataframe tbody tr th:only-of-type {\n",
       "        vertical-align: middle;\n",
       "    }\n",
       "\n",
       "    .dataframe tbody tr th {\n",
       "        vertical-align: top;\n",
       "    }\n",
       "\n",
       "    .dataframe thead th {\n",
       "        text-align: right;\n",
       "    }\n",
       "</style>\n",
       "<table border=\"1\" class=\"dataframe\">\n",
       "  <thead>\n",
       "    <tr style=\"text-align: right;\">\n",
       "      <th></th>\n",
       "      <th>work_year</th>\n",
       "      <th>remote_ratio</th>\n",
       "      <th>experience_level_EN</th>\n",
       "      <th>experience_level_EX</th>\n",
       "      <th>experience_level_MI</th>\n",
       "      <th>experience_level_SE</th>\n",
       "      <th>employment_type_CT</th>\n",
       "      <th>employment_type_FL</th>\n",
       "      <th>employment_type_FT</th>\n",
       "      <th>employment_type_PT</th>\n",
       "      <th>...</th>\n",
       "      <th>company_location_RU</th>\n",
       "      <th>company_location_SG</th>\n",
       "      <th>company_location_SI</th>\n",
       "      <th>company_location_TR</th>\n",
       "      <th>company_location_UA</th>\n",
       "      <th>company_location_US</th>\n",
       "      <th>company_location_VN</th>\n",
       "      <th>company_size_L</th>\n",
       "      <th>company_size_M</th>\n",
       "      <th>company_size_S</th>\n",
       "    </tr>\n",
       "  </thead>\n",
       "  <tbody>\n",
       "    <tr>\n",
       "      <th>0</th>\n",
       "      <td>-2.095</td>\n",
       "      <td>-1.757</td>\n",
       "      <td>0</td>\n",
       "      <td>0</td>\n",
       "      <td>0</td>\n",
       "      <td>1</td>\n",
       "      <td>0</td>\n",
       "      <td>0</td>\n",
       "      <td>1</td>\n",
       "      <td>0</td>\n",
       "      <td>...</td>\n",
       "      <td>0</td>\n",
       "      <td>0</td>\n",
       "      <td>0</td>\n",
       "      <td>0</td>\n",
       "      <td>0</td>\n",
       "      <td>0</td>\n",
       "      <td>0</td>\n",
       "      <td>0</td>\n",
       "      <td>0</td>\n",
       "      <td>1</td>\n",
       "    </tr>\n",
       "    <tr>\n",
       "      <th>1</th>\n",
       "      <td>-2.095</td>\n",
       "      <td>0.700</td>\n",
       "      <td>0</td>\n",
       "      <td>0</td>\n",
       "      <td>1</td>\n",
       "      <td>0</td>\n",
       "      <td>0</td>\n",
       "      <td>0</td>\n",
       "      <td>1</td>\n",
       "      <td>0</td>\n",
       "      <td>...</td>\n",
       "      <td>0</td>\n",
       "      <td>0</td>\n",
       "      <td>0</td>\n",
       "      <td>0</td>\n",
       "      <td>0</td>\n",
       "      <td>1</td>\n",
       "      <td>0</td>\n",
       "      <td>1</td>\n",
       "      <td>0</td>\n",
       "      <td>0</td>\n",
       "    </tr>\n",
       "    <tr>\n",
       "      <th>2</th>\n",
       "      <td>-2.095</td>\n",
       "      <td>0.700</td>\n",
       "      <td>0</td>\n",
       "      <td>0</td>\n",
       "      <td>1</td>\n",
       "      <td>0</td>\n",
       "      <td>0</td>\n",
       "      <td>0</td>\n",
       "      <td>1</td>\n",
       "      <td>0</td>\n",
       "      <td>...</td>\n",
       "      <td>0</td>\n",
       "      <td>0</td>\n",
       "      <td>0</td>\n",
       "      <td>0</td>\n",
       "      <td>0</td>\n",
       "      <td>1</td>\n",
       "      <td>0</td>\n",
       "      <td>1</td>\n",
       "      <td>0</td>\n",
       "      <td>0</td>\n",
       "    </tr>\n",
       "    <tr>\n",
       "      <th>3</th>\n",
       "      <td>-2.095</td>\n",
       "      <td>-1.757</td>\n",
       "      <td>0</td>\n",
       "      <td>0</td>\n",
       "      <td>1</td>\n",
       "      <td>0</td>\n",
       "      <td>0</td>\n",
       "      <td>0</td>\n",
       "      <td>1</td>\n",
       "      <td>0</td>\n",
       "      <td>...</td>\n",
       "      <td>0</td>\n",
       "      <td>0</td>\n",
       "      <td>0</td>\n",
       "      <td>0</td>\n",
       "      <td>0</td>\n",
       "      <td>0</td>\n",
       "      <td>0</td>\n",
       "      <td>0</td>\n",
       "      <td>1</td>\n",
       "      <td>0</td>\n",
       "    </tr>\n",
       "    <tr>\n",
       "      <th>4</th>\n",
       "      <td>-2.095</td>\n",
       "      <td>0.700</td>\n",
       "      <td>0</td>\n",
       "      <td>0</td>\n",
       "      <td>1</td>\n",
       "      <td>0</td>\n",
       "      <td>0</td>\n",
       "      <td>0</td>\n",
       "      <td>1</td>\n",
       "      <td>0</td>\n",
       "      <td>...</td>\n",
       "      <td>0</td>\n",
       "      <td>0</td>\n",
       "      <td>0</td>\n",
       "      <td>0</td>\n",
       "      <td>0</td>\n",
       "      <td>0</td>\n",
       "      <td>0</td>\n",
       "      <td>1</td>\n",
       "      <td>0</td>\n",
       "      <td>0</td>\n",
       "    </tr>\n",
       "    <tr>\n",
       "      <th>...</th>\n",
       "      <td>...</td>\n",
       "      <td>...</td>\n",
       "      <td>...</td>\n",
       "      <td>...</td>\n",
       "      <td>...</td>\n",
       "      <td>...</td>\n",
       "      <td>...</td>\n",
       "      <td>...</td>\n",
       "      <td>...</td>\n",
       "      <td>...</td>\n",
       "      <td>...</td>\n",
       "      <td>...</td>\n",
       "      <td>...</td>\n",
       "      <td>...</td>\n",
       "      <td>...</td>\n",
       "      <td>...</td>\n",
       "      <td>...</td>\n",
       "      <td>...</td>\n",
       "      <td>...</td>\n",
       "      <td>...</td>\n",
       "      <td>...</td>\n",
       "    </tr>\n",
       "    <tr>\n",
       "      <th>102</th>\n",
       "      <td>0.821</td>\n",
       "      <td>0.700</td>\n",
       "      <td>0</td>\n",
       "      <td>0</td>\n",
       "      <td>0</td>\n",
       "      <td>1</td>\n",
       "      <td>0</td>\n",
       "      <td>0</td>\n",
       "      <td>1</td>\n",
       "      <td>0</td>\n",
       "      <td>...</td>\n",
       "      <td>0</td>\n",
       "      <td>0</td>\n",
       "      <td>0</td>\n",
       "      <td>0</td>\n",
       "      <td>0</td>\n",
       "      <td>1</td>\n",
       "      <td>0</td>\n",
       "      <td>0</td>\n",
       "      <td>1</td>\n",
       "      <td>0</td>\n",
       "    </tr>\n",
       "    <tr>\n",
       "      <th>103</th>\n",
       "      <td>0.821</td>\n",
       "      <td>0.700</td>\n",
       "      <td>0</td>\n",
       "      <td>0</td>\n",
       "      <td>0</td>\n",
       "      <td>1</td>\n",
       "      <td>0</td>\n",
       "      <td>0</td>\n",
       "      <td>1</td>\n",
       "      <td>0</td>\n",
       "      <td>...</td>\n",
       "      <td>0</td>\n",
       "      <td>0</td>\n",
       "      <td>0</td>\n",
       "      <td>0</td>\n",
       "      <td>0</td>\n",
       "      <td>1</td>\n",
       "      <td>0</td>\n",
       "      <td>0</td>\n",
       "      <td>1</td>\n",
       "      <td>0</td>\n",
       "    </tr>\n",
       "    <tr>\n",
       "      <th>104</th>\n",
       "      <td>0.821</td>\n",
       "      <td>0.700</td>\n",
       "      <td>0</td>\n",
       "      <td>0</td>\n",
       "      <td>0</td>\n",
       "      <td>1</td>\n",
       "      <td>0</td>\n",
       "      <td>0</td>\n",
       "      <td>1</td>\n",
       "      <td>0</td>\n",
       "      <td>...</td>\n",
       "      <td>0</td>\n",
       "      <td>0</td>\n",
       "      <td>0</td>\n",
       "      <td>0</td>\n",
       "      <td>0</td>\n",
       "      <td>1</td>\n",
       "      <td>0</td>\n",
       "      <td>0</td>\n",
       "      <td>1</td>\n",
       "      <td>0</td>\n",
       "    </tr>\n",
       "    <tr>\n",
       "      <th>105</th>\n",
       "      <td>0.821</td>\n",
       "      <td>-1.757</td>\n",
       "      <td>1</td>\n",
       "      <td>0</td>\n",
       "      <td>0</td>\n",
       "      <td>0</td>\n",
       "      <td>0</td>\n",
       "      <td>0</td>\n",
       "      <td>1</td>\n",
       "      <td>0</td>\n",
       "      <td>...</td>\n",
       "      <td>0</td>\n",
       "      <td>0</td>\n",
       "      <td>0</td>\n",
       "      <td>0</td>\n",
       "      <td>0</td>\n",
       "      <td>0</td>\n",
       "      <td>0</td>\n",
       "      <td>0</td>\n",
       "      <td>1</td>\n",
       "      <td>0</td>\n",
       "    </tr>\n",
       "    <tr>\n",
       "      <th>106</th>\n",
       "      <td>0.821</td>\n",
       "      <td>-1.757</td>\n",
       "      <td>0</td>\n",
       "      <td>0</td>\n",
       "      <td>0</td>\n",
       "      <td>1</td>\n",
       "      <td>0</td>\n",
       "      <td>0</td>\n",
       "      <td>1</td>\n",
       "      <td>0</td>\n",
       "      <td>...</td>\n",
       "      <td>0</td>\n",
       "      <td>0</td>\n",
       "      <td>0</td>\n",
       "      <td>0</td>\n",
       "      <td>0</td>\n",
       "      <td>1</td>\n",
       "      <td>0</td>\n",
       "      <td>0</td>\n",
       "      <td>1</td>\n",
       "      <td>0</td>\n",
       "    </tr>\n",
       "  </tbody>\n",
       "</table>\n",
       "<p>107 rows × 107 columns</p>\n",
       "</div>"
      ],
      "text/plain": [
       "     work_year  remote_ratio  experience_level_EN  experience_level_EX  \\\n",
       "0       -2.095        -1.757                    0                    0   \n",
       "1       -2.095         0.700                    0                    0   \n",
       "2       -2.095         0.700                    0                    0   \n",
       "3       -2.095        -1.757                    0                    0   \n",
       "4       -2.095         0.700                    0                    0   \n",
       "..         ...           ...                  ...                  ...   \n",
       "102      0.821         0.700                    0                    0   \n",
       "103      0.821         0.700                    0                    0   \n",
       "104      0.821         0.700                    0                    0   \n",
       "105      0.821        -1.757                    1                    0   \n",
       "106      0.821        -1.757                    0                    0   \n",
       "\n",
       "     experience_level_MI  experience_level_SE  employment_type_CT  \\\n",
       "0                      0                    1                   0   \n",
       "1                      1                    0                   0   \n",
       "2                      1                    0                   0   \n",
       "3                      1                    0                   0   \n",
       "4                      1                    0                   0   \n",
       "..                   ...                  ...                 ...   \n",
       "102                    0                    1                   0   \n",
       "103                    0                    1                   0   \n",
       "104                    0                    1                   0   \n",
       "105                    0                    0                   0   \n",
       "106                    0                    1                   0   \n",
       "\n",
       "     employment_type_FL  employment_type_FT  employment_type_PT  ...  \\\n",
       "0                     0                   1                   0  ...   \n",
       "1                     0                   1                   0  ...   \n",
       "2                     0                   1                   0  ...   \n",
       "3                     0                   1                   0  ...   \n",
       "4                     0                   1                   0  ...   \n",
       "..                  ...                 ...                 ...  ...   \n",
       "102                   0                   1                   0  ...   \n",
       "103                   0                   1                   0  ...   \n",
       "104                   0                   1                   0  ...   \n",
       "105                   0                   1                   0  ...   \n",
       "106                   0                   1                   0  ...   \n",
       "\n",
       "     company_location_RU  company_location_SG  company_location_SI  \\\n",
       "0                      0                    0                    0   \n",
       "1                      0                    0                    0   \n",
       "2                      0                    0                    0   \n",
       "3                      0                    0                    0   \n",
       "4                      0                    0                    0   \n",
       "..                   ...                  ...                  ...   \n",
       "102                    0                    0                    0   \n",
       "103                    0                    0                    0   \n",
       "104                    0                    0                    0   \n",
       "105                    0                    0                    0   \n",
       "106                    0                    0                    0   \n",
       "\n",
       "     company_location_TR  company_location_UA  company_location_US  \\\n",
       "0                      0                    0                    0   \n",
       "1                      0                    0                    1   \n",
       "2                      0                    0                    1   \n",
       "3                      0                    0                    0   \n",
       "4                      0                    0                    0   \n",
       "..                   ...                  ...                  ...   \n",
       "102                    0                    0                    1   \n",
       "103                    0                    0                    1   \n",
       "104                    0                    0                    1   \n",
       "105                    0                    0                    0   \n",
       "106                    0                    0                    1   \n",
       "\n",
       "     company_location_VN  company_size_L  company_size_M  company_size_S  \n",
       "0                      0               0               0               1  \n",
       "1                      0               1               0               0  \n",
       "2                      0               1               0               0  \n",
       "3                      0               0               1               0  \n",
       "4                      0               1               0               0  \n",
       "..                   ...             ...             ...             ...  \n",
       "102                    0               0               1               0  \n",
       "103                    0               0               1               0  \n",
       "104                    0               0               1               0  \n",
       "105                    0               0               1               0  \n",
       "106                    0               0               1               0  \n",
       "\n",
       "[107 rows x 107 columns]"
      ]
     },
     "execution_count": 38,
     "metadata": {},
     "output_type": "execute_result"
    }
   ],
   "source": [
    "testeo"
   ]
  },
  {
   "cell_type": "markdown",
   "id": "676c121b",
   "metadata": {},
   "source": [
    "### Se realiza un train_test_split para dividir los datos:"
   ]
  },
  {
   "cell_type": "code",
   "execution_count": 39,
   "id": "ed4680e0",
   "metadata": {},
   "outputs": [
    {
     "data": {
      "text/plain": [
       "((370, 107), (93, 107), (370,), (93,))"
      ]
     },
     "execution_count": 39,
     "metadata": {},
     "output_type": "execute_result"
    }
   ],
   "source": [
    "from sklearn.model_selection import train_test_split as tts\n",
    "\n",
    "\n",
    "X_train, X_test, y_train, y_test = tts(X, y, train_size=0.8, test_size=0.2, random_state=22)\n",
    "\n",
    "X_train.shape, X_test.shape, y_train.shape, y_test.shape"
   ]
  },
  {
   "cell_type": "markdown",
   "id": "4b473c11",
   "metadata": {},
   "source": [
    "# Modelos de regresión lineal:"
   ]
  },
  {
   "cell_type": "markdown",
   "id": "0df92674",
   "metadata": {},
   "source": [
    "Iniciamos:"
   ]
  },
  {
   "cell_type": "code",
   "execution_count": 40,
   "id": "3bbbc4fe",
   "metadata": {},
   "outputs": [],
   "source": [
    "linreg=LinReg()\n",
    "lasso=Lasso()\n",
    "ridge=Ridge()\n",
    "elastic=ElasticNet()"
   ]
  },
  {
   "cell_type": "markdown",
   "id": "bb79ca62",
   "metadata": {},
   "source": [
    "Entrenamos con el tts:"
   ]
  },
  {
   "cell_type": "code",
   "execution_count": 41,
   "id": "f65970a7",
   "metadata": {},
   "outputs": [
    {
     "data": {
      "text/plain": [
       "ElasticNet()"
      ]
     },
     "execution_count": 41,
     "metadata": {},
     "output_type": "execute_result"
    }
   ],
   "source": [
    "linreg.fit(X_train, y_train)\n",
    "\n",
    "lasso.fit(X_train, y_train)\n",
    "\n",
    "ridge.fit(X_train, y_train)\n",
    "\n",
    "elastic.fit(X_train, y_train)"
   ]
  },
  {
   "cell_type": "markdown",
   "id": "8f263621",
   "metadata": {},
   "source": [
    "Se obtiene la predición y se calculan errores:"
   ]
  },
  {
   "cell_type": "code",
   "execution_count": 42,
   "id": "af04c302",
   "metadata": {},
   "outputs": [],
   "source": [
    "y_pred_linear=linreg.predict(testeo)\n",
    "y_pred_lasso=lasso.predict(testeo)\n",
    "y_pred_ridge=ridge.predict(testeo)\n",
    "y_pred_elastic=elastic.predict(testeo)"
   ]
  },
  {
   "cell_type": "code",
   "execution_count": 43,
   "id": "09ad0122",
   "metadata": {},
   "outputs": [],
   "source": [
    "y_pred_linear1=linreg.predict(X_test)\n",
    "y_pred_lasso1=lasso.predict(X_test)\n",
    "y_pred_ridge1=ridge.predict(X_test)\n",
    "y_pred_elastic1=elastic.predict(X_test)"
   ]
  },
  {
   "cell_type": "code",
   "execution_count": 44,
   "id": "7df5a8f1",
   "metadata": {},
   "outputs": [
    {
     "data": {
      "text/plain": [
       "(2.2681351219329104e+16, -1.4262227031383e+23)"
      ]
     },
     "execution_count": 44,
     "metadata": {},
     "output_type": "execute_result"
    }
   ],
   "source": [
    "mse(y_test, y_pred_linear1,squared=False), r2(y_test, y_pred_linear1)"
   ]
  },
  {
   "cell_type": "code",
   "execution_count": 45,
   "id": "3b898d72",
   "metadata": {},
   "outputs": [
    {
     "data": {
      "text/plain": [
       "(34102.786797014356, 0.6775746069195127)"
      ]
     },
     "execution_count": 45,
     "metadata": {},
     "output_type": "execute_result"
    }
   ],
   "source": [
    "mse(y_test, y_pred_lasso1,squared=False), r2(y_test, y_pred_lasso1)"
   ]
  },
  {
   "cell_type": "code",
   "execution_count": 46,
   "id": "643cb443",
   "metadata": {},
   "outputs": [
    {
     "data": {
      "text/plain": [
       "(33781.605232452624, 0.6836192413457112)"
      ]
     },
     "execution_count": 46,
     "metadata": {},
     "output_type": "execute_result"
    }
   ],
   "source": [
    "mse(y_test, y_pred_ridge1,squared=False), r2(y_test, y_pred_ridge1)"
   ]
  },
  {
   "cell_type": "code",
   "execution_count": 47,
   "id": "8d7e3725",
   "metadata": {},
   "outputs": [
    {
     "data": {
      "text/plain": [
       "(51261.071945034746, 0.27150786817883166)"
      ]
     },
     "execution_count": 47,
     "metadata": {},
     "output_type": "execute_result"
    }
   ],
   "source": [
    "mse(y_test, y_pred_elastic1,squared=False), r2(y_test, y_pred_elastic1)"
   ]
  },
  {
   "cell_type": "code",
   "execution_count": null,
   "id": "3e0507c0",
   "metadata": {},
   "outputs": [],
   "source": [
    "y_pred_ridge=pd.DataFrame(y_pred_ridge, columns=['salary_in_usd'])\n",
    "\n",
    "y_pred_ridge.to_csv('prueba9.csv',index_label='id')"
   ]
  },
  {
   "cell_type": "code",
   "execution_count": 48,
   "id": "48b0604c",
   "metadata": {},
   "outputs": [
    {
     "data": {
      "text/plain": [
       "ElasticNet()"
      ]
     },
     "execution_count": 48,
     "metadata": {},
     "output_type": "execute_result"
    }
   ],
   "source": [
    "linreg.fit(X, y)\n",
    "\n",
    "lasso.fit(X, y)\n",
    "\n",
    "ridge.fit(X, y)\n",
    "\n",
    "elastic.fit(X, y)"
   ]
  },
  {
   "cell_type": "code",
   "execution_count": 49,
   "id": "deeebca1",
   "metadata": {},
   "outputs": [],
   "source": [
    "y_pred_linear2=linreg.predict(X)\n",
    "y_pred_lasso2=lasso.predict(X)\n",
    "y_pred_ridge2=ridge.predict(X)\n",
    "y_pred_elastic2=elastic.predict(X)"
   ]
  },
  {
   "cell_type": "code",
   "execution_count": 50,
   "id": "f4662ed9",
   "metadata": {},
   "outputs": [],
   "source": [
    "y_pred_lasso3=lasso.predict(testeo)\n",
    "y_pred_ridge3=ridge.predict(testeo)"
   ]
  },
  {
   "cell_type": "code",
   "execution_count": 51,
   "id": "1bf49040",
   "metadata": {},
   "outputs": [
    {
     "data": {
      "text/plain": [
       "(31717.751608751696, 0.684009048858476)"
      ]
     },
     "execution_count": 51,
     "metadata": {},
     "output_type": "execute_result"
    }
   ],
   "source": [
    "mse(y, y_pred_linear2,squared=False), r2(y, y_pred_linear2)"
   ]
  },
  {
   "cell_type": "code",
   "execution_count": 52,
   "id": "7e26adf1",
   "metadata": {},
   "outputs": [
    {
     "data": {
      "text/plain": [
       "(31715.132882882997, 0.6840612252881224)"
      ]
     },
     "execution_count": 52,
     "metadata": {},
     "output_type": "execute_result"
    }
   ],
   "source": [
    "mse(y, y_pred_lasso2,squared=False), r2(y, y_pred_lasso2)"
   ]
  },
  {
   "cell_type": "code",
   "execution_count": 53,
   "id": "f2cf2afd",
   "metadata": {},
   "outputs": [
    {
     "data": {
      "text/plain": [
       "(32448.6024321195, 0.669278939791838)"
      ]
     },
     "execution_count": 53,
     "metadata": {},
     "output_type": "execute_result"
    }
   ],
   "source": [
    "mse(y, y_pred_ridge2,squared=False), r2(y, y_pred_ridge2)"
   ]
  },
  {
   "cell_type": "code",
   "execution_count": 54,
   "id": "2bec866e",
   "metadata": {},
   "outputs": [
    {
     "data": {
      "text/plain": [
       "(46462.59548177423, 0.321926468746522)"
      ]
     },
     "execution_count": 54,
     "metadata": {},
     "output_type": "execute_result"
    }
   ],
   "source": [
    "mse(y, y_pred_elastic2,squared=False), r2(y, y_pred_elastic2)"
   ]
  },
  {
   "cell_type": "code",
   "execution_count": null,
   "id": "4aef7ab3",
   "metadata": {},
   "outputs": [],
   "source": [
    "y_pred_ridge3=pd.DataFrame(y_pred_ridge3, columns=['salary_in_usd'])\n",
    "\n",
    "y_pred_ridge3.to_csv('prueba11.csv',index_label='id')"
   ]
  },
  {
   "cell_type": "markdown",
   "id": "ea757da1",
   "metadata": {},
   "source": [
    "### Modelos no lieneales:"
   ]
  },
  {
   "cell_type": "code",
   "execution_count": 55,
   "id": "e988a694",
   "metadata": {},
   "outputs": [],
   "source": [
    "svr=SVR()\n",
    "rfr=RFR()\n",
    "etr=ETR()\n",
    "gbr=GBR()\n",
    "xgbr=XGBR()\n",
    "ctr=CTR()\n",
    "lgbmr=LGBMR()"
   ]
  },
  {
   "cell_type": "code",
   "execution_count": 56,
   "id": "e45ae7f5",
   "metadata": {},
   "outputs": [
    {
     "data": {
      "text/plain": [
       "LGBMRegressor()"
      ]
     },
     "execution_count": 56,
     "metadata": {},
     "output_type": "execute_result"
    }
   ],
   "source": [
    "svr.fit(X_train, y_train)\n",
    "rfr.fit(X_train, y_train)\n",
    "etr.fit(X_train, y_train)\n",
    "gbr.fit(X_train, y_train)\n",
    "xgbr.fit(X_train, y_train)\n",
    "ctr.fit(X_train, y_train, verbose=0)\n",
    "lgbmr.fit(X_train, y_train)"
   ]
  },
  {
   "cell_type": "code",
   "execution_count": 57,
   "id": "a3b28a9d",
   "metadata": {},
   "outputs": [],
   "source": [
    "y_pred_svr=svr.predict(testeo)\n",
    "y_pred_rfr=rfr.predict(testeo)\n",
    "y_pred_etr=etr.predict(testeo)\n",
    "y_pred_gbr=gbr.predict(testeo)\n",
    "y_pred_xgbr=xgbr.predict(testeo)\n",
    "y_pred_ctr=ctr.predict(testeo)\n",
    "y_pred_lgbmr=lgbmr.predict(testeo)"
   ]
  },
  {
   "cell_type": "code",
   "execution_count": 58,
   "id": "94b1e47b",
   "metadata": {},
   "outputs": [],
   "source": [
    "y_pred_svr1=svr.predict(X_test)\n",
    "y_pred_rfr1=rfr.predict(X_test)\n",
    "y_pred_etr1=etr.predict(X_test)\n",
    "y_pred_gbr1=gbr.predict(X_test)\n",
    "y_pred_xgbr1=xgbr.predict(X_test)\n",
    "y_pred_ctr1=ctr.predict(X_test)\n",
    "y_pred_lgbmr1=lgbmr.predict(X_test)"
   ]
  },
  {
   "cell_type": "code",
   "execution_count": 59,
   "id": "4fafb7a5",
   "metadata": {},
   "outputs": [
    {
     "data": {
      "text/plain": [
       "(60976.165877777006, -0.03078887774390604)"
      ]
     },
     "execution_count": 59,
     "metadata": {},
     "output_type": "execute_result"
    }
   ],
   "source": [
    "mse(y_test, y_pred_svr1,squared=False), r2(y_test, y_pred_svr1)"
   ]
  },
  {
   "cell_type": "code",
   "execution_count": 60,
   "id": "dfaa8274",
   "metadata": {},
   "outputs": [
    {
     "data": {
      "text/plain": [
       "(39087.882785002956, 0.576421612544219)"
      ]
     },
     "execution_count": 60,
     "metadata": {},
     "output_type": "execute_result"
    }
   ],
   "source": [
    "mse(y_test, y_pred_rfr1,squared=False), r2(y_test, y_pred_rfr1)"
   ]
  },
  {
   "cell_type": "code",
   "execution_count": 61,
   "id": "4ab3c3f6",
   "metadata": {},
   "outputs": [
    {
     "data": {
      "text/plain": [
       "(45581.482041956595, 0.42399482978580594)"
      ]
     },
     "execution_count": 61,
     "metadata": {},
     "output_type": "execute_result"
    }
   ],
   "source": [
    "mse(y_test, y_pred_etr1,squared=False), r2(y_test, y_pred_etr1)"
   ]
  },
  {
   "cell_type": "code",
   "execution_count": 62,
   "id": "8e3b6541",
   "metadata": {},
   "outputs": [
    {
     "data": {
      "text/plain": [
       "(38019.18574998461, 0.599266987739583)"
      ]
     },
     "execution_count": 62,
     "metadata": {},
     "output_type": "execute_result"
    }
   ],
   "source": [
    "mse(y_test, y_pred_gbr1,squared=False), r2(y_test, y_pred_gbr1)"
   ]
  },
  {
   "cell_type": "code",
   "execution_count": 63,
   "id": "f595cbfa",
   "metadata": {},
   "outputs": [
    {
     "data": {
      "text/plain": [
       "(36918.57813068539, 0.6221325951626816)"
      ]
     },
     "execution_count": 63,
     "metadata": {},
     "output_type": "execute_result"
    }
   ],
   "source": [
    "mse(y_test, y_pred_xgbr1,squared=False), r2(y_test, y_pred_xgbr1)"
   ]
  },
  {
   "cell_type": "code",
   "execution_count": 64,
   "id": "b628a888",
   "metadata": {},
   "outputs": [
    {
     "data": {
      "text/plain": [
       "(36321.64775344841, 0.6342531598426574)"
      ]
     },
     "execution_count": 64,
     "metadata": {},
     "output_type": "execute_result"
    }
   ],
   "source": [
    "mse(y_test, y_pred_ctr1,squared=False), r2(y_test, y_pred_ctr1)"
   ]
  },
  {
   "cell_type": "code",
   "execution_count": 65,
   "id": "6f713d70",
   "metadata": {},
   "outputs": [
    {
     "data": {
      "text/plain": [
       "(39058.519480053306, 0.5770577682432205)"
      ]
     },
     "execution_count": 65,
     "metadata": {},
     "output_type": "execute_result"
    }
   ],
   "source": [
    "mse(y_test, y_pred_lgbmr1,squared=False), r2(y_test, y_pred_lgbmr1)"
   ]
  },
  {
   "cell_type": "code",
   "execution_count": 66,
   "id": "fb75252e",
   "metadata": {},
   "outputs": [
    {
     "data": {
      "text/plain": [
       "(38019.18574998461, 0.599266987739583)"
      ]
     },
     "execution_count": 66,
     "metadata": {},
     "output_type": "execute_result"
    }
   ],
   "source": [
    "mse(y_test, y_pred_gbr1, squared=False), r2(y_test, y_pred_gbr1)"
   ]
  },
  {
   "cell_type": "code",
   "execution_count": 67,
   "id": "e80c5966",
   "metadata": {},
   "outputs": [
    {
     "data": {
      "text/plain": [
       "LGBMRegressor()"
      ]
     },
     "execution_count": 67,
     "metadata": {},
     "output_type": "execute_result"
    }
   ],
   "source": [
    "svr.fit(X, y)\n",
    "rfr.fit(X, y)\n",
    "etr.fit(X, y)\n",
    "gbr.fit(X, y)\n",
    "xgbr.fit(X, y)\n",
    "ctr.fit(X, y, verbose=0)\n",
    "lgbmr.fit(X, y)"
   ]
  },
  {
   "cell_type": "code",
   "execution_count": 68,
   "id": "4ce95ff4",
   "metadata": {},
   "outputs": [],
   "source": [
    "y_pred_svra=svr.predict(testeo)\n",
    "y_pred_rfra=rfr.predict(testeo)\n",
    "y_pred_etra=etr.predict(testeo)\n",
    "y_pred_gbra=gbr.predict(testeo)\n",
    "y_pred_xgbra=xgbr.predict(testeo)\n",
    "y_pred_ctra=ctr.predict(testeo)\n",
    "y_pred_lgbmra=lgbmr.predict(testeo)"
   ]
  },
  {
   "cell_type": "code",
   "execution_count": 69,
   "id": "7ce6b68a",
   "metadata": {},
   "outputs": [],
   "source": [
    "y_pred_svr1b=svr.predict(X)\n",
    "y_pred_rfr1b=rfr.predict(X)\n",
    "y_pred_etr1b=etr.predict(X)\n",
    "y_pred_gbr1b=gbr.predict(X)\n",
    "y_pred_xgbr1b=xgbr.predict(X)\n",
    "y_pred_ctr1b=ctr.predict(X)\n",
    "y_pred_lgbmr1b=lgbmr.predict(X)"
   ]
  },
  {
   "cell_type": "code",
   "execution_count": 71,
   "id": "a4f95dc5",
   "metadata": {},
   "outputs": [
    {
     "data": {
      "text/plain": [
       "(56877.31515953583, -0.016127100289814233)"
      ]
     },
     "execution_count": 71,
     "metadata": {},
     "output_type": "execute_result"
    }
   ],
   "source": [
    "mse(y, y_pred_svr1b,squared=False), r2(y, y_pred_svr1b)"
   ]
  },
  {
   "cell_type": "code",
   "execution_count": 72,
   "id": "3ca0d7eb",
   "metadata": {},
   "outputs": [
    {
     "data": {
      "text/plain": [
       "(25317.161215490087, 0.7986739962611983)"
      ]
     },
     "execution_count": 72,
     "metadata": {},
     "output_type": "execute_result"
    }
   ],
   "source": [
    "mse(y, y_pred_rfr1b,squared=False), r2(y, y_pred_rfr1b)"
   ]
  },
  {
   "cell_type": "code",
   "execution_count": 73,
   "id": "80005c13",
   "metadata": {},
   "outputs": [
    {
     "data": {
      "text/plain": [
       "(23258.544119661983, 0.8300837512876252)"
      ]
     },
     "execution_count": 73,
     "metadata": {},
     "output_type": "execute_result"
    }
   ],
   "source": [
    "mse(y, y_pred_etr1b,squared=False), r2(y, y_pred_etr1b)"
   ]
  },
  {
   "cell_type": "code",
   "execution_count": 74,
   "id": "f1b38a3f",
   "metadata": {},
   "outputs": [
    {
     "data": {
      "text/plain": [
       "(30624.596816548255, 0.7054150073913639)"
      ]
     },
     "execution_count": 74,
     "metadata": {},
     "output_type": "execute_result"
    }
   ],
   "source": [
    "mse(y, y_pred_gbr1b,squared=False), r2(y, y_pred_gbr1b)"
   ]
  },
  {
   "cell_type": "code",
   "execution_count": 75,
   "id": "b54cdf19",
   "metadata": {},
   "outputs": [
    {
     "data": {
      "text/plain": [
       "(24293.408105080816, 0.8146268838123937)"
      ]
     },
     "execution_count": 75,
     "metadata": {},
     "output_type": "execute_result"
    }
   ],
   "source": [
    "mse(y, y_pred_xgbr1b,squared=False), r2(y, y_pred_xgbr1b)"
   ]
  },
  {
   "cell_type": "code",
   "execution_count": 76,
   "id": "a0bb628c",
   "metadata": {},
   "outputs": [
    {
     "data": {
      "text/plain": [
       "(25890.82934741768, 0.7894468306013781)"
      ]
     },
     "execution_count": 76,
     "metadata": {},
     "output_type": "execute_result"
    }
   ],
   "source": [
    "mse(y, y_pred_ctr1b,squared=False), r2(y, y_pred_ctr1b)"
   ]
  },
  {
   "cell_type": "code",
   "execution_count": 77,
   "id": "66d72bbb",
   "metadata": {},
   "outputs": [
    {
     "data": {
      "text/plain": [
       "(33957.42031674374, 0.6378076782712537)"
      ]
     },
     "execution_count": 77,
     "metadata": {},
     "output_type": "execute_result"
    }
   ],
   "source": [
    "mse(y, y_pred_lgbmr1b,squared=False), r2(y, y_pred_lgbmr1b)"
   ]
  }
 ],
 "metadata": {
  "kernelspec": {
   "display_name": "clase",
   "language": "python",
   "name": "clase"
  },
  "language_info": {
   "codemirror_mode": {
    "name": "ipython",
    "version": 3
   },
   "file_extension": ".py",
   "mimetype": "text/x-python",
   "name": "python",
   "nbconvert_exporter": "python",
   "pygments_lexer": "ipython3",
   "version": "3.7.13"
  }
 },
 "nbformat": 4,
 "nbformat_minor": 5
}
